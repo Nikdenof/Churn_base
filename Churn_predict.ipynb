{
 "cells": [
  {
   "cell_type": "markdown",
   "metadata": {
    "id": "TK7oX5qdEEYr"
   },
   "source": [
    "<p style=\"align: center;\"><img align=center src=\"https://s8.hostingkartinok.com/uploads/images/2018/08/308b49fcfbc619d629fe4604bceb67ac.jpg\" width=500 height=450/></p>\n",
    "\n",
    "<h3 style=\"text-align: center;\"><b>Школа глубокого обучения ФПМИ МФТИ</b></h3>\n",
    "\n",
    "<h3 style=\"text-align: center;\"><b>Домашнее задание. Продвинутый поток. Весна 2021</b></h3>\n",
    "\n",
    "Это домашнее задание будет посвящено полноценному решению задачи машинного обучения."
   ]
  },
  {
   "cell_type": "markdown",
   "metadata": {
    "id": "zlB-owfaEEYs"
   },
   "source": [
    "Есть две части этого домашнего задания: \n",
    "* Сделать полноценный отчет о вашей работе: как вы обработали данные, какие модели попробовали и какие результаты получились (максимум 10 баллов). За каждую выполненную часть будет начислено определенное количество баллов.\n",
    "* Лучшее решение отправить в соревнование на [kaggle](https://www.kaggle.com/c/advanced-dls-spring-2021/) (максимум 5 баллов). За прохождение определенного порогов будут начисляться баллы.\n",
    "\n",
    "\n",
    "**Обе части будут проверяться в формате peer-review. Т.е. вашу посылку на степик будут проверять несколько других студентов и аггрегация их оценок будет выставлена. В то же время вам тоже нужно будет проверить несколько других учеников.**\n",
    "\n",
    "**Пожалуйста, делайте свою работу чистой и понятной, чтобы облегчить проверку. Если у вас будут проблемы с решением или хочется совета, то пишите в наш чат в телеграме или в лс @runfme. Если вы захотите проаппелировать оценку, то пипшите в лс @runfme.**\n",
    "\n",
    "**Во всех пунктах указания это минимальный набор вещей, которые стоит сделать. Если вы можете сделать какой-то шаг лучше или добавить что-то свое - дерзайте!**"
   ]
  },
  {
   "cell_type": "markdown",
   "metadata": {
    "id": "Tu_JvqcBEN8Y"
   },
   "source": [
    "# Как проверять?\n",
    "\n",
    "Ставьте полный балл, если выполнены все рекомендации или сделано что-то более интересное и сложное. За каждый отсустствующий пункт из рекомендация снижайте 1 балл."
   ]
  },
  {
   "cell_type": "markdown",
   "metadata": {
    "id": "ninJ63mJEEYt"
   },
   "source": [
    "# Метрика\n",
    "\n",
    "Перед решением любой задачи важно понимать, как будет оцениваться ваше решение. В данном случае мы используем стандартную для задачи классификации метрику ROC-AUC. Ее можно вычислить используя только предсказанные вероятности и истинные классы без конкретного порога классификации + она раотает даже если классы в данных сильно несбалансированны (примеров одного класса в десятки раз больше примеров длугого). Именно поэтому она очень удобна для соревнований.\n",
    "\n",
    "Посчитать ее легко:\n"
   ]
  },
  {
   "cell_type": "code",
   "execution_count": 88,
   "metadata": {
    "id": "SQIrka7yEEYu",
    "outputId": "ef45a9f2-7571-47b1-e697-b474b65cb0fb"
   },
   "outputs": [
    {
     "data": {
      "text/plain": [
       "0.8333333333333333"
      ]
     },
     "execution_count": 88,
     "metadata": {},
     "output_type": "execute_result"
    }
   ],
   "source": [
    "from sklearn.metrics import roc_auc_score\n",
    "\n",
    "y_true = [\n",
    "    0,\n",
    "    1,\n",
    "    1,\n",
    "    0,\n",
    "    1\n",
    "]\n",
    "\n",
    "y_predictions = [\n",
    "    0.1,\n",
    "    0.9,\n",
    "    0.4,\n",
    "    0.6,\n",
    "    0.61\n",
    "]\n",
    "\n",
    "roc_auc_score(y_true, y_predictions)"
   ]
  },
  {
   "cell_type": "markdown",
   "metadata": {
    "id": "IrDNNkNTEEYz"
   },
   "source": [
    "# Первая часть. Исследование"
   ]
  },
  {
   "cell_type": "code",
   "execution_count": 89,
   "metadata": {
    "id": "lzLqEeZKEEYz"
   },
   "outputs": [],
   "source": [
    "import pandas as pd\n",
    "import numpy as np\n",
    "from matplotlib import pyplot as plt"
   ]
  },
  {
   "cell_type": "markdown",
   "metadata": {
    "id": "LOlxdURSEEY3"
   },
   "source": [
    "## Загрузка данных (2 балла)\n",
    "\n",
    "1) Посмотрите на случайные строчки.\n",
    "\n",
    "2) Посмотрите, есть ли в датасете незаполненные значения (nan'ы) с помощью data.isna() или data.info() и, если нужно, замените их на что-то. Будет хорошо, если вы построите табличку с количеством nan в каждой колонке."
   ]
  },
  {
   "cell_type": "code",
   "execution_count": 90,
   "metadata": {
    "id": "pw-Brue9EEY3"
   },
   "outputs": [],
   "source": [
    "data = pd.read_csv('./train.csv')"
   ]
  },
  {
   "cell_type": "markdown",
   "metadata": {},
   "source": [
    "### Получим информацию о датасете (характеристика столбцов, количество nan-ов, размерность датасета и т.д.)"
   ]
  },
  {
   "cell_type": "code",
   "execution_count": 91,
   "metadata": {
    "id": "KgnkkF5bEEY9"
   },
   "outputs": [],
   "source": [
    "# Для вашего удобства списки с именами разных колонок\n",
    "\n",
    "# Числовые признаки\n",
    "num_cols = [\n",
    "    'ClientPeriod',\n",
    "    'MonthlySpending',\n",
    "    'TotalSpent'\n",
    "]\n",
    "\n",
    "# Категориальные признаки\n",
    "cat_cols = [\n",
    "    'Sex',\n",
    "    'IsSeniorCitizen',\n",
    "    'HasPartner',\n",
    "    'HasChild',\n",
    "    'HasPhoneService',\n",
    "    'HasMultiplePhoneNumbers',\n",
    "    'HasInternetService',\n",
    "    'HasOnlineSecurityService',\n",
    "    'HasOnlineBackup',\n",
    "    'HasDeviceProtection',\n",
    "    'HasTechSupportAccess',\n",
    "    'HasOnlineTV',\n",
    "    'HasMovieSubscription',\n",
    "    'HasContractPhone',\n",
    "    'IsBillingPaperless',\n",
    "    'PaymentMethod'\n",
    "]\n",
    "\n",
    "feature_cols = num_cols + cat_cols\n",
    "target_col = 'Churn'"
   ]
  },
  {
   "cell_type": "markdown",
   "metadata": {},
   "source": [
    "## Выберем случайные строки датасета с помощью фунции sample"
   ]
  },
  {
   "cell_type": "code",
   "execution_count": 92,
   "metadata": {
    "id": "tHC6gWabEEZA",
    "scrolled": false
   },
   "outputs": [
    {
     "data": {
      "text/html": [
       "<div>\n",
       "<style scoped>\n",
       "    .dataframe tbody tr th:only-of-type {\n",
       "        vertical-align: middle;\n",
       "    }\n",
       "\n",
       "    .dataframe tbody tr th {\n",
       "        vertical-align: top;\n",
       "    }\n",
       "\n",
       "    .dataframe thead th {\n",
       "        text-align: right;\n",
       "    }\n",
       "</style>\n",
       "<table border=\"1\" class=\"dataframe\">\n",
       "  <thead>\n",
       "    <tr style=\"text-align: right;\">\n",
       "      <th></th>\n",
       "      <th>ClientPeriod</th>\n",
       "      <th>MonthlySpending</th>\n",
       "      <th>TotalSpent</th>\n",
       "      <th>Sex</th>\n",
       "      <th>IsSeniorCitizen</th>\n",
       "      <th>HasPartner</th>\n",
       "      <th>HasChild</th>\n",
       "      <th>HasPhoneService</th>\n",
       "      <th>HasMultiplePhoneNumbers</th>\n",
       "      <th>HasInternetService</th>\n",
       "      <th>HasOnlineSecurityService</th>\n",
       "      <th>HasOnlineBackup</th>\n",
       "      <th>HasDeviceProtection</th>\n",
       "      <th>HasTechSupportAccess</th>\n",
       "      <th>HasOnlineTV</th>\n",
       "      <th>HasMovieSubscription</th>\n",
       "      <th>HasContractPhone</th>\n",
       "      <th>IsBillingPaperless</th>\n",
       "      <th>PaymentMethod</th>\n",
       "      <th>Churn</th>\n",
       "    </tr>\n",
       "  </thead>\n",
       "  <tbody>\n",
       "    <tr>\n",
       "      <th>3768</th>\n",
       "      <td>1</td>\n",
       "      <td>35.55</td>\n",
       "      <td>35.55</td>\n",
       "      <td>Male</td>\n",
       "      <td>0</td>\n",
       "      <td>No</td>\n",
       "      <td>No</td>\n",
       "      <td>No</td>\n",
       "      <td>No phone service</td>\n",
       "      <td>DSL</td>\n",
       "      <td>No</td>\n",
       "      <td>No</td>\n",
       "      <td>No</td>\n",
       "      <td>No</td>\n",
       "      <td>No</td>\n",
       "      <td>Yes</td>\n",
       "      <td>Month-to-month</td>\n",
       "      <td>Yes</td>\n",
       "      <td>Electronic check</td>\n",
       "      <td>1</td>\n",
       "    </tr>\n",
       "    <tr>\n",
       "      <th>1078</th>\n",
       "      <td>72</td>\n",
       "      <td>25.20</td>\n",
       "      <td>1798.9</td>\n",
       "      <td>Male</td>\n",
       "      <td>0</td>\n",
       "      <td>Yes</td>\n",
       "      <td>Yes</td>\n",
       "      <td>Yes</td>\n",
       "      <td>Yes</td>\n",
       "      <td>No</td>\n",
       "      <td>No internet service</td>\n",
       "      <td>No internet service</td>\n",
       "      <td>No internet service</td>\n",
       "      <td>No internet service</td>\n",
       "      <td>No internet service</td>\n",
       "      <td>No internet service</td>\n",
       "      <td>Two year</td>\n",
       "      <td>Yes</td>\n",
       "      <td>Bank transfer (automatic)</td>\n",
       "      <td>0</td>\n",
       "    </tr>\n",
       "    <tr>\n",
       "      <th>1827</th>\n",
       "      <td>70</td>\n",
       "      <td>45.25</td>\n",
       "      <td>3264.45</td>\n",
       "      <td>Male</td>\n",
       "      <td>1</td>\n",
       "      <td>No</td>\n",
       "      <td>No</td>\n",
       "      <td>No</td>\n",
       "      <td>No phone service</td>\n",
       "      <td>DSL</td>\n",
       "      <td>No</td>\n",
       "      <td>No</td>\n",
       "      <td>No</td>\n",
       "      <td>No</td>\n",
       "      <td>Yes</td>\n",
       "      <td>Yes</td>\n",
       "      <td>One year</td>\n",
       "      <td>Yes</td>\n",
       "      <td>Electronic check</td>\n",
       "      <td>1</td>\n",
       "    </tr>\n",
       "    <tr>\n",
       "      <th>3088</th>\n",
       "      <td>43</td>\n",
       "      <td>56.15</td>\n",
       "      <td>2499.3</td>\n",
       "      <td>Female</td>\n",
       "      <td>0</td>\n",
       "      <td>Yes</td>\n",
       "      <td>Yes</td>\n",
       "      <td>Yes</td>\n",
       "      <td>No</td>\n",
       "      <td>DSL</td>\n",
       "      <td>No</td>\n",
       "      <td>No</td>\n",
       "      <td>No</td>\n",
       "      <td>No</td>\n",
       "      <td>Yes</td>\n",
       "      <td>No</td>\n",
       "      <td>Month-to-month</td>\n",
       "      <td>No</td>\n",
       "      <td>Electronic check</td>\n",
       "      <td>1</td>\n",
       "    </tr>\n",
       "    <tr>\n",
       "      <th>579</th>\n",
       "      <td>53</td>\n",
       "      <td>108.25</td>\n",
       "      <td>5935.1</td>\n",
       "      <td>Female</td>\n",
       "      <td>0</td>\n",
       "      <td>Yes</td>\n",
       "      <td>Yes</td>\n",
       "      <td>Yes</td>\n",
       "      <td>No</td>\n",
       "      <td>Fiber optic</td>\n",
       "      <td>No</td>\n",
       "      <td>Yes</td>\n",
       "      <td>Yes</td>\n",
       "      <td>Yes</td>\n",
       "      <td>Yes</td>\n",
       "      <td>Yes</td>\n",
       "      <td>Month-to-month</td>\n",
       "      <td>Yes</td>\n",
       "      <td>Bank transfer (automatic)</td>\n",
       "      <td>0</td>\n",
       "    </tr>\n",
       "    <tr>\n",
       "      <th>2493</th>\n",
       "      <td>25</td>\n",
       "      <td>76.15</td>\n",
       "      <td>1992.95</td>\n",
       "      <td>Female</td>\n",
       "      <td>0</td>\n",
       "      <td>No</td>\n",
       "      <td>No</td>\n",
       "      <td>Yes</td>\n",
       "      <td>No</td>\n",
       "      <td>DSL</td>\n",
       "      <td>Yes</td>\n",
       "      <td>No</td>\n",
       "      <td>No</td>\n",
       "      <td>Yes</td>\n",
       "      <td>Yes</td>\n",
       "      <td>Yes</td>\n",
       "      <td>Month-to-month</td>\n",
       "      <td>Yes</td>\n",
       "      <td>Credit card (automatic)</td>\n",
       "      <td>0</td>\n",
       "    </tr>\n",
       "    <tr>\n",
       "      <th>3581</th>\n",
       "      <td>68</td>\n",
       "      <td>70.95</td>\n",
       "      <td>4741.45</td>\n",
       "      <td>Male</td>\n",
       "      <td>0</td>\n",
       "      <td>Yes</td>\n",
       "      <td>No</td>\n",
       "      <td>Yes</td>\n",
       "      <td>No</td>\n",
       "      <td>DSL</td>\n",
       "      <td>Yes</td>\n",
       "      <td>Yes</td>\n",
       "      <td>Yes</td>\n",
       "      <td>No</td>\n",
       "      <td>No</td>\n",
       "      <td>Yes</td>\n",
       "      <td>Two year</td>\n",
       "      <td>No</td>\n",
       "      <td>Bank transfer (automatic)</td>\n",
       "      <td>0</td>\n",
       "    </tr>\n",
       "    <tr>\n",
       "      <th>1889</th>\n",
       "      <td>60</td>\n",
       "      <td>60.80</td>\n",
       "      <td>3603.45</td>\n",
       "      <td>Female</td>\n",
       "      <td>0</td>\n",
       "      <td>Yes</td>\n",
       "      <td>No</td>\n",
       "      <td>No</td>\n",
       "      <td>No phone service</td>\n",
       "      <td>DSL</td>\n",
       "      <td>No</td>\n",
       "      <td>Yes</td>\n",
       "      <td>Yes</td>\n",
       "      <td>Yes</td>\n",
       "      <td>Yes</td>\n",
       "      <td>Yes</td>\n",
       "      <td>Two year</td>\n",
       "      <td>No</td>\n",
       "      <td>Credit card (automatic)</td>\n",
       "      <td>0</td>\n",
       "    </tr>\n",
       "    <tr>\n",
       "      <th>4933</th>\n",
       "      <td>50</td>\n",
       "      <td>103.85</td>\n",
       "      <td>5017.9</td>\n",
       "      <td>Male</td>\n",
       "      <td>0</td>\n",
       "      <td>Yes</td>\n",
       "      <td>Yes</td>\n",
       "      <td>Yes</td>\n",
       "      <td>Yes</td>\n",
       "      <td>Fiber optic</td>\n",
       "      <td>No</td>\n",
       "      <td>Yes</td>\n",
       "      <td>Yes</td>\n",
       "      <td>No</td>\n",
       "      <td>Yes</td>\n",
       "      <td>Yes</td>\n",
       "      <td>Month-to-month</td>\n",
       "      <td>Yes</td>\n",
       "      <td>Bank transfer (automatic)</td>\n",
       "      <td>1</td>\n",
       "    </tr>\n",
       "    <tr>\n",
       "      <th>5209</th>\n",
       "      <td>25</td>\n",
       "      <td>104.95</td>\n",
       "      <td>2566.5</td>\n",
       "      <td>Female</td>\n",
       "      <td>0</td>\n",
       "      <td>Yes</td>\n",
       "      <td>No</td>\n",
       "      <td>Yes</td>\n",
       "      <td>Yes</td>\n",
       "      <td>Fiber optic</td>\n",
       "      <td>No</td>\n",
       "      <td>No</td>\n",
       "      <td>Yes</td>\n",
       "      <td>Yes</td>\n",
       "      <td>Yes</td>\n",
       "      <td>Yes</td>\n",
       "      <td>Month-to-month</td>\n",
       "      <td>Yes</td>\n",
       "      <td>Bank transfer (automatic)</td>\n",
       "      <td>1</td>\n",
       "    </tr>\n",
       "  </tbody>\n",
       "</table>\n",
       "</div>"
      ],
      "text/plain": [
       "      ClientPeriod  MonthlySpending TotalSpent     Sex  IsSeniorCitizen  \\\n",
       "3768             1            35.55      35.55    Male                0   \n",
       "1078            72            25.20     1798.9    Male                0   \n",
       "1827            70            45.25    3264.45    Male                1   \n",
       "3088            43            56.15     2499.3  Female                0   \n",
       "579             53           108.25     5935.1  Female                0   \n",
       "2493            25            76.15    1992.95  Female                0   \n",
       "3581            68            70.95    4741.45    Male                0   \n",
       "1889            60            60.80    3603.45  Female                0   \n",
       "4933            50           103.85     5017.9    Male                0   \n",
       "5209            25           104.95     2566.5  Female                0   \n",
       "\n",
       "     HasPartner HasChild HasPhoneService HasMultiplePhoneNumbers  \\\n",
       "3768         No       No              No        No phone service   \n",
       "1078        Yes      Yes             Yes                     Yes   \n",
       "1827         No       No              No        No phone service   \n",
       "3088        Yes      Yes             Yes                      No   \n",
       "579         Yes      Yes             Yes                      No   \n",
       "2493         No       No             Yes                      No   \n",
       "3581        Yes       No             Yes                      No   \n",
       "1889        Yes       No              No        No phone service   \n",
       "4933        Yes      Yes             Yes                     Yes   \n",
       "5209        Yes       No             Yes                     Yes   \n",
       "\n",
       "     HasInternetService HasOnlineSecurityService      HasOnlineBackup  \\\n",
       "3768                DSL                       No                   No   \n",
       "1078                 No      No internet service  No internet service   \n",
       "1827                DSL                       No                   No   \n",
       "3088                DSL                       No                   No   \n",
       "579         Fiber optic                       No                  Yes   \n",
       "2493                DSL                      Yes                   No   \n",
       "3581                DSL                      Yes                  Yes   \n",
       "1889                DSL                       No                  Yes   \n",
       "4933        Fiber optic                       No                  Yes   \n",
       "5209        Fiber optic                       No                   No   \n",
       "\n",
       "      HasDeviceProtection HasTechSupportAccess          HasOnlineTV  \\\n",
       "3768                   No                   No                   No   \n",
       "1078  No internet service  No internet service  No internet service   \n",
       "1827                   No                   No                  Yes   \n",
       "3088                   No                   No                  Yes   \n",
       "579                   Yes                  Yes                  Yes   \n",
       "2493                   No                  Yes                  Yes   \n",
       "3581                  Yes                   No                   No   \n",
       "1889                  Yes                  Yes                  Yes   \n",
       "4933                  Yes                   No                  Yes   \n",
       "5209                  Yes                  Yes                  Yes   \n",
       "\n",
       "     HasMovieSubscription HasContractPhone IsBillingPaperless  \\\n",
       "3768                  Yes   Month-to-month                Yes   \n",
       "1078  No internet service         Two year                Yes   \n",
       "1827                  Yes         One year                Yes   \n",
       "3088                   No   Month-to-month                 No   \n",
       "579                   Yes   Month-to-month                Yes   \n",
       "2493                  Yes   Month-to-month                Yes   \n",
       "3581                  Yes         Two year                 No   \n",
       "1889                  Yes         Two year                 No   \n",
       "4933                  Yes   Month-to-month                Yes   \n",
       "5209                  Yes   Month-to-month                Yes   \n",
       "\n",
       "                  PaymentMethod  Churn  \n",
       "3768           Electronic check      1  \n",
       "1078  Bank transfer (automatic)      0  \n",
       "1827           Electronic check      1  \n",
       "3088           Electronic check      1  \n",
       "579   Bank transfer (automatic)      0  \n",
       "2493    Credit card (automatic)      0  \n",
       "3581  Bank transfer (automatic)      0  \n",
       "1889    Credit card (automatic)      0  \n",
       "4933  Bank transfer (automatic)      1  \n",
       "5209  Bank transfer (automatic)      1  "
      ]
     },
     "execution_count": 92,
     "metadata": {},
     "output_type": "execute_result"
    }
   ],
   "source": [
    "data.sample(10)"
   ]
  },
  {
   "cell_type": "markdown",
   "metadata": {},
   "source": [
    "**На первый взгляд нет очевидных пропусков или ошибок в данных, числовые признаки float или int. В категориальных признаках IsSeniorCitizen, которая обозначает является ли пенсионером наш клиент, вместо Yes и No используют 1 и 0 соответственно**"
   ]
  },
  {
   "cell_type": "markdown",
   "metadata": {},
   "source": [
    "### *С помощью функции info,которая описывает датасет и столбцы в нем, количество не-null в каждом из столбцов, более детально проверим тип объектов в датасете и потенциальные пропуски.*"
   ]
  },
  {
   "cell_type": "code",
   "execution_count": 93,
   "metadata": {
    "scrolled": false
   },
   "outputs": [
    {
     "name": "stdout",
     "output_type": "stream",
     "text": [
      "<class 'pandas.core.frame.DataFrame'>\n",
      "RangeIndex: 5282 entries, 0 to 5281\n",
      "Data columns (total 20 columns):\n",
      " #   Column                    Non-Null Count  Dtype  \n",
      "---  ------                    --------------  -----  \n",
      " 0   ClientPeriod              5282 non-null   int64  \n",
      " 1   MonthlySpending           5282 non-null   float64\n",
      " 2   TotalSpent                5282 non-null   object \n",
      " 3   Sex                       5282 non-null   object \n",
      " 4   IsSeniorCitizen           5282 non-null   int64  \n",
      " 5   HasPartner                5282 non-null   object \n",
      " 6   HasChild                  5282 non-null   object \n",
      " 7   HasPhoneService           5282 non-null   object \n",
      " 8   HasMultiplePhoneNumbers   5282 non-null   object \n",
      " 9   HasInternetService        5282 non-null   object \n",
      " 10  HasOnlineSecurityService  5282 non-null   object \n",
      " 11  HasOnlineBackup           5282 non-null   object \n",
      " 12  HasDeviceProtection       5282 non-null   object \n",
      " 13  HasTechSupportAccess      5282 non-null   object \n",
      " 14  HasOnlineTV               5282 non-null   object \n",
      " 15  HasMovieSubscription      5282 non-null   object \n",
      " 16  HasContractPhone          5282 non-null   object \n",
      " 17  IsBillingPaperless        5282 non-null   object \n",
      " 18  PaymentMethod             5282 non-null   object \n",
      " 19  Churn                     5282 non-null   int64  \n",
      "dtypes: float64(1), int64(3), object(16)\n",
      "memory usage: 825.4+ KB\n"
     ]
    }
   ],
   "source": [
    "data.info()"
   ]
  },
  {
   "cell_type": "markdown",
   "metadata": {},
   "source": [
    "Если присмотримся, то заметим, что признак TotalSpent имеет тип object вместо float или int.\n",
    "\n",
    "**Приведем его к нужному типу с помощью функии pd.to_numeric().**"
   ]
  },
  {
   "cell_type": "code",
   "execution_count": 94,
   "metadata": {},
   "outputs": [],
   "source": [
    "data.TotalSpent = pd.to_numeric(data.TotalSpent, errors='coerce')"
   ]
  },
  {
   "cell_type": "markdown",
   "metadata": {},
   "source": [
    "Проверим результат преобразования:"
   ]
  },
  {
   "cell_type": "code",
   "execution_count": 95,
   "metadata": {},
   "outputs": [
    {
     "name": "stdout",
     "output_type": "stream",
     "text": [
      "<class 'pandas.core.frame.DataFrame'>\n",
      "RangeIndex: 5282 entries, 0 to 5281\n",
      "Data columns (total 20 columns):\n",
      " #   Column                    Non-Null Count  Dtype  \n",
      "---  ------                    --------------  -----  \n",
      " 0   ClientPeriod              5282 non-null   int64  \n",
      " 1   MonthlySpending           5282 non-null   float64\n",
      " 2   TotalSpent                5273 non-null   float64\n",
      " 3   Sex                       5282 non-null   object \n",
      " 4   IsSeniorCitizen           5282 non-null   int64  \n",
      " 5   HasPartner                5282 non-null   object \n",
      " 6   HasChild                  5282 non-null   object \n",
      " 7   HasPhoneService           5282 non-null   object \n",
      " 8   HasMultiplePhoneNumbers   5282 non-null   object \n",
      " 9   HasInternetService        5282 non-null   object \n",
      " 10  HasOnlineSecurityService  5282 non-null   object \n",
      " 11  HasOnlineBackup           5282 non-null   object \n",
      " 12  HasDeviceProtection       5282 non-null   object \n",
      " 13  HasTechSupportAccess      5282 non-null   object \n",
      " 14  HasOnlineTV               5282 non-null   object \n",
      " 15  HasMovieSubscription      5282 non-null   object \n",
      " 16  HasContractPhone          5282 non-null   object \n",
      " 17  IsBillingPaperless        5282 non-null   object \n",
      " 18  PaymentMethod             5282 non-null   object \n",
      " 19  Churn                     5282 non-null   int64  \n",
      "dtypes: float64(2), int64(3), object(15)\n",
      "memory usage: 825.4+ KB\n"
     ]
    }
   ],
   "source": [
    "data.info()"
   ]
  },
  {
   "cell_type": "markdown",
   "metadata": {},
   "source": [
    "Значения признаков TotalSpent поменяли свой тип.\n",
    "\n",
    "Но в этом столбце появились значания null."
   ]
  },
  {
   "cell_type": "markdown",
   "metadata": {},
   "source": [
    "# Таблица количество nan в каждом из столбцов датасета"
   ]
  },
  {
   "cell_type": "code",
   "execution_count": 96,
   "metadata": {
    "scrolled": false
   },
   "outputs": [
    {
     "data": {
      "text/plain": [
       "ClientPeriod                0\n",
       "MonthlySpending             0\n",
       "TotalSpent                  9\n",
       "Sex                         0\n",
       "IsSeniorCitizen             0\n",
       "HasPartner                  0\n",
       "HasChild                    0\n",
       "HasPhoneService             0\n",
       "HasMultiplePhoneNumbers     0\n",
       "HasInternetService          0\n",
       "HasOnlineSecurityService    0\n",
       "HasOnlineBackup             0\n",
       "HasDeviceProtection         0\n",
       "HasTechSupportAccess        0\n",
       "HasOnlineTV                 0\n",
       "HasMovieSubscription        0\n",
       "HasContractPhone            0\n",
       "IsBillingPaperless          0\n",
       "PaymentMethod               0\n",
       "Churn                       0\n",
       "dtype: int64"
      ]
     },
     "execution_count": 96,
     "metadata": {},
     "output_type": "execute_result"
    }
   ],
   "source": [
    "data.isna().sum()"
   ]
  },
  {
   "cell_type": "markdown",
   "metadata": {},
   "source": [
    "**Заменим отсутствующие значения в столбце TotalSpent на значения медианы значений данного столбца (можно также заменить на среднее, 0 или вообще выбросить**"
   ]
  },
  {
   "cell_type": "code",
   "execution_count": 97,
   "metadata": {},
   "outputs": [],
   "source": [
    "data.TotalSpent=data.TotalSpent.fillna(data.TotalSpent.median())"
   ]
  },
  {
   "cell_type": "markdown",
   "metadata": {},
   "source": [
    "Проверим правильность операции:"
   ]
  },
  {
   "cell_type": "code",
   "execution_count": 98,
   "metadata": {},
   "outputs": [
    {
     "name": "stdout",
     "output_type": "stream",
     "text": [
      "Nan count is 0\n"
     ]
    }
   ],
   "source": [
    "print('Nan count is',data.TotalSpent.isna().sum())"
   ]
  },
  {
   "cell_type": "markdown",
   "metadata": {
    "id": "dK370bPCEEZD"
   },
   "source": [
    "## Анализ данных (3 балла)\n",
    "\n",
    "1) Для численных призанков постройте гистограмму (*plt.hist(...)*) или boxplot (*plt.boxplot(...)*). Для категориальных посчитайте количество каждого значения для каждого признака. Для каждой колонки надо сделать *data.value_counts()* и построить bar диаграммы *plt.bar(...)* или круговые диаграммы *plt.pie(...)* (хорошо, елси вы сможете это сделать на одном графике с помощью *plt.subplots(...)*).\n",
    "\n",
    "2) Посмотрите на распределение целевой переменной и скажите, являются ли классы несбалансированными.\n",
    "\n",
    "3) (Если будет желание) Поиграйте с разными библиотеками для визуализации - *sns*, *pandas_visual_analysis*, etc.\n",
    "\n",
    "Второй пункт очень важен, потому что существуют задачи классификации с несбалансированными классами. Например, это может значить, что в датасете намного больше примеров 0 класса. В таких случаях нужно 1) не использовать accuracy как метрику 2) использовать методы борьбы с imbalanced dataset (обычно если датасет сильно несбалансирован, т.е. класса 1 в 20 раз меньше класса 0)."
   ]
  },
  {
   "cell_type": "markdown",
   "metadata": {},
   "source": [
    "### Построим гистограмму распределения численных признаков"
   ]
  },
  {
   "cell_type": "code",
   "execution_count": 99,
   "metadata": {},
   "outputs": [
    {
     "data": {
      "text/plain": [
       "['ClientPeriod', 'MonthlySpending', 'TotalSpent']"
      ]
     },
     "execution_count": 99,
     "metadata": {},
     "output_type": "execute_result"
    }
   ],
   "source": [
    "num_cols"
   ]
  },
  {
   "cell_type": "code",
   "execution_count": 100,
   "metadata": {
    "id": "NZkbgFJZEEZE"
   },
   "outputs": [
    {
     "data": {
      "image/png": "[encoded data removed]",
      "text/plain": [
       "<Figure size 1800x576 with 3 Axes>"
      ]
     },
     "metadata": {
      "needs_background": "light"
     },
     "output_type": "display_data"
    }
   ],
   "source": [
    "fig, ax = plt.subplots(nrows=1,ncols=len(num_cols),figsize=(25,8))\n",
    "for i, title in enumerate(num_cols):\n",
    "    ax[i].hist(data[title])\n",
    "    ax[i].set_title(title)\n",
    "plt.show()"
   ]
  },
  {
   "cell_type": "markdown",
   "metadata": {},
   "source": [
    "*По графикам можно сказать, что в значениях численных нет аномальных выбросов и сильного дизбаланса в их распределении.*"
   ]
  },
  {
   "cell_type": "markdown",
   "metadata": {},
   "source": [
    "### Категориальные признаки"
   ]
  },
  {
   "cell_type": "code",
   "execution_count": 101,
   "metadata": {
    "scrolled": true
   },
   "outputs": [
    {
     "data": {
      "text/plain": [
       "['Sex',\n",
       " 'IsSeniorCitizen',\n",
       " 'HasPartner',\n",
       " 'HasChild',\n",
       " 'HasPhoneService',\n",
       " 'HasMultiplePhoneNumbers',\n",
       " 'HasInternetService',\n",
       " 'HasOnlineSecurityService',\n",
       " 'HasOnlineBackup',\n",
       " 'HasDeviceProtection',\n",
       " 'HasTechSupportAccess',\n",
       " 'HasOnlineTV',\n",
       " 'HasMovieSubscription',\n",
       " 'HasContractPhone',\n",
       " 'IsBillingPaperless',\n",
       " 'PaymentMethod']"
      ]
     },
     "execution_count": 101,
     "metadata": {},
     "output_type": "execute_result"
    }
   ],
   "source": [
    "cat_cols"
   ]
  },
  {
   "cell_type": "markdown",
   "metadata": {},
   "source": [
    "**Выведем количество значений для каждого признака категориальных значений с помощью .value_counts()**"
   ]
  },
  {
   "cell_type": "code",
   "execution_count": 102,
   "metadata": {
    "scrolled": false
   },
   "outputs": [
    {
     "name": "stdout",
     "output_type": "stream",
     "text": [
      "Categorical feature - Sex :\n",
      " Male      2655\n",
      "Female    2627\n",
      "Name: Sex, dtype: int64 \n",
      "\n",
      "Categorical feature - IsSeniorCitizen :\n",
      " 0    4440\n",
      "1     842\n",
      "Name: IsSeniorCitizen, dtype: int64 \n",
      "\n",
      "Categorical feature - HasPartner :\n",
      " No     2705\n",
      "Yes    2577\n",
      "Name: HasPartner, dtype: int64 \n",
      "\n",
      "Categorical feature - HasChild :\n",
      " No     3676\n",
      "Yes    1606\n",
      "Name: HasChild, dtype: int64 \n",
      "\n",
      "Categorical feature - HasPhoneService :\n",
      " Yes    4761\n",
      "No      521\n",
      "Name: HasPhoneService, dtype: int64 \n",
      "\n",
      "Categorical feature - HasMultiplePhoneNumbers :\n",
      " No                  2511\n",
      "Yes                 2250\n",
      "No phone service     521\n",
      "Name: HasMultiplePhoneNumbers, dtype: int64 \n",
      "\n",
      "Categorical feature - HasInternetService :\n",
      " Fiber optic    2341\n",
      "DSL            1800\n",
      "No             1141\n",
      "Name: HasInternetService, dtype: int64 \n",
      "\n",
      "Categorical feature - HasOnlineSecurityService :\n",
      " No                     2612\n",
      "Yes                    1529\n",
      "No internet service    1141\n",
      "Name: HasOnlineSecurityService, dtype: int64 \n",
      "\n",
      "Categorical feature - HasOnlineBackup :\n",
      " No                     2332\n",
      "Yes                    1809\n",
      "No internet service    1141\n",
      "Name: HasOnlineBackup, dtype: int64 \n",
      "\n",
      "Categorical feature - HasDeviceProtection :\n",
      " No                     2317\n",
      "Yes                    1824\n",
      "No internet service    1141\n",
      "Name: HasDeviceProtection, dtype: int64 \n",
      "\n",
      "Categorical feature - HasTechSupportAccess :\n",
      " No                     2604\n",
      "Yes                    1537\n",
      "No internet service    1141\n",
      "Name: HasTechSupportAccess, dtype: int64 \n",
      "\n",
      "Categorical feature - HasOnlineTV :\n",
      " No                     2099\n",
      "Yes                    2042\n",
      "No internet service    1141\n",
      "Name: HasOnlineTV, dtype: int64 \n",
      "\n",
      "Categorical feature - HasMovieSubscription :\n",
      " No                     2081\n",
      "Yes                    2060\n",
      "No internet service    1141\n",
      "Name: HasMovieSubscription, dtype: int64 \n",
      "\n",
      "Categorical feature - HasContractPhone :\n",
      " Month-to-month    2920\n",
      "Two year          1280\n",
      "One year          1082\n",
      "Name: HasContractPhone, dtype: int64 \n",
      "\n",
      "Categorical feature - IsBillingPaperless :\n",
      " Yes    3148\n",
      "No     2134\n",
      "Name: IsBillingPaperless, dtype: int64 \n",
      "\n",
      "Categorical feature - PaymentMethod :\n",
      " Electronic check             1786\n",
      "Mailed check                 1194\n",
      "Bank transfer (automatic)    1159\n",
      "Credit card (automatic)      1143\n",
      "Name: PaymentMethod, dtype: int64 \n",
      "\n"
     ]
    }
   ],
   "source": [
    "for i, title in enumerate(cat_cols):\n",
    "    print('Categorical feature -',title,':\\n',data[title].value_counts(),'\\n')"
   ]
  },
  {
   "cell_type": "markdown",
   "metadata": {},
   "source": [
    "*Вспоминаем что вместо категориальных признаков Yes/No в столбце'IsSeniorCitizen' ипользуются int числа 1/0.\n",
    "Заменим их на str значения для более красивой визуализации.*"
   ]
  },
  {
   "cell_type": "code",
   "execution_count": 103,
   "metadata": {},
   "outputs": [
    {
     "data": {
      "text/plain": [
       "No     4440\n",
       "Yes     842\n",
       "Name: IsSeniorCitizen, dtype: int64"
      ]
     },
     "execution_count": 103,
     "metadata": {},
     "output_type": "execute_result"
    }
   ],
   "source": [
    "citizen_map = {1: 'Yes', 0: 'No'}\n",
    "data['IsSeniorCitizen'] = data['IsSeniorCitizen'].map(citizen_map)\n",
    "data['IsSeniorCitizen'].value_counts()"
   ]
  },
  {
   "cell_type": "markdown",
   "metadata": {},
   "source": [
    "### Построим круговые диаграммы распределения признаков по категориальным данным"
   ]
  },
  {
   "cell_type": "code",
   "execution_count": 104,
   "metadata": {
    "scrolled": false
   },
   "outputs": [
    {
     "data": {
      "image/png": "[encoded data removed]",
      "text/plain": [
       "<Figure size 1296x1440 with 16 Axes>"
      ]
     },
     "metadata": {},
     "output_type": "display_data"
    }
   ],
   "source": [
    "fig, ax = plt.subplots(nrows=4,ncols=4,figsize=(18,20))\n",
    "for i,title in enumerate(cat_cols):\n",
    "    data_cnts=data[cat_cols[i]].value_counts()\n",
    "    ax[i//4,i%4].pie(data_cnts, labels = data_cnts.index, autopct='%1.1f%%')\n",
    "    ax[i//4,i%4].legend()\n",
    "    ax[i//4,i%4].set_title(title)\n",
    "plt.show()"
   ]
  },
  {
   "cell_type": "markdown",
   "metadata": {},
   "source": [
    "### Посмотрим на распределение целевой переменной"
   ]
  },
  {
   "cell_type": "code",
   "execution_count": 105,
   "metadata": {},
   "outputs": [
    {
     "data": {
      "text/plain": [
       "0    3898\n",
       "1    1384\n",
       "Name: Churn, dtype: int64"
      ]
     },
     "execution_count": 105,
     "metadata": {},
     "output_type": "execute_result"
    }
   ],
   "source": [
    "data[target_col].value_counts()"
   ]
  },
  {
   "cell_type": "code",
   "execution_count": 106,
   "metadata": {
    "scrolled": true
   },
   "outputs": [
    {
     "data": {
      "image/png": "[encoded data removed]",
      "text/plain": [
       "<Figure size 720x360 with 1 Axes>"
      ]
     },
     "metadata": {
      "needs_background": "light"
     },
     "output_type": "display_data"
    }
   ],
   "source": [
    "ss=data[target_col].value_counts()\n",
    "fig, ax = plt.subplots(figsize=(10,5))\n",
    "c = ['blue', 'cyan']\n",
    "ax.barh(ss.index,ss.values,color=c)\n",
    "ax.set_yticks([0,1])\n",
    "ax.set_title(target_col)\n",
    "plt.show()"
   ]
  },
  {
   "cell_type": "code",
   "execution_count": 107,
   "metadata": {},
   "outputs": [
    {
     "name": "stdout",
     "output_type": "stream",
     "text": [
      "Отношение класса 0 и класса 1 целевой переменной:  2.816473988439306\n"
     ]
    }
   ],
   "source": [
    "print('Отношение класса 0 и класса 1 целевой переменной: ',\n",
    "      (data[target_col].value_counts()[0]/data[target_col].value_counts()[1]))"
   ]
  },
  {
   "cell_type": "markdown",
   "metadata": {},
   "source": [
    "### *Наблюдается некоторый дизбаланс между количеством признаков целевой переменной, но не считаем его критичным, так как отношение меньше 20*"
   ]
  },
  {
   "cell_type": "markdown",
   "metadata": {},
   "source": [
    "# Для понимания зависимости между числовыми переменными и целевой переменной, построим график их корреляций"
   ]
  },
  {
   "cell_type": "code",
   "execution_count": 108,
   "metadata": {
    "id": "fwfksF1gEEZI",
    "scrolled": true
   },
   "outputs": [
    {
     "data": {
      "text/html": [
       "<style  type=\"text/css\" >\n",
       "#T_7244e_row0_col0,#T_7244e_row1_col1,#T_7244e_row2_col2,#T_7244e_row3_col3{\n",
       "            background-color:  #800000;\n",
       "            color:  #f1f1f1;\n",
       "        }#T_7244e_row0_col1{\n",
       "            background-color:  #000084;\n",
       "            color:  #f1f1f1;\n",
       "        }#T_7244e_row0_col2{\n",
       "            background-color:  #ca0000;\n",
       "            color:  #f1f1f1;\n",
       "        }#T_7244e_row0_col3,#T_7244e_row3_col0,#T_7244e_row3_col1,#T_7244e_row3_col2{\n",
       "            background-color:  #00004c;\n",
       "            color:  #f1f1f1;\n",
       "        }#T_7244e_row1_col0{\n",
       "            background-color:  #c5c5ff;\n",
       "            color:  #000000;\n",
       "        }#T_7244e_row1_col2{\n",
       "            background-color:  #ff2929;\n",
       "            color:  #f1f1f1;\n",
       "        }#T_7244e_row1_col3{\n",
       "            background-color:  #9595ff;\n",
       "            color:  #000000;\n",
       "        }#T_7244e_row2_col0{\n",
       "            background-color:  #c20000;\n",
       "            color:  #f1f1f1;\n",
       "        }#T_7244e_row2_col1{\n",
       "            background-color:  #ffb5b5;\n",
       "            color:  #000000;\n",
       "        }#T_7244e_row2_col3{\n",
       "            background-color:  #00009b;\n",
       "            color:  #f1f1f1;\n",
       "        }</style><table id=\"T_7244e_\" ><thead>    <tr>        <th class=\"blank level0\" ></th>        <th class=\"col_heading level0 col0\" >ClientPeriod</th>        <th class=\"col_heading level0 col1\" >MonthlySpending</th>        <th class=\"col_heading level0 col2\" >TotalSpent</th>        <th class=\"col_heading level0 col3\" >Churn</th>    </tr></thead><tbody>\n",
       "                <tr>\n",
       "                        <th id=\"T_7244e_level0_row0\" class=\"row_heading level0 row0\" >ClientPeriod</th>\n",
       "                        <td id=\"T_7244e_row0_col0\" class=\"data row0 col0\" >1.000</td>\n",
       "                        <td id=\"T_7244e_row0_col1\" class=\"data row0 col1\" >0.249</td>\n",
       "                        <td id=\"T_7244e_row0_col2\" class=\"data row0 col2\" >0.826</td>\n",
       "                        <td id=\"T_7244e_row0_col3\" class=\"data row0 col3\" >-0.351</td>\n",
       "            </tr>\n",
       "            <tr>\n",
       "                        <th id=\"T_7244e_level0_row1\" class=\"row_heading level0 row1\" >MonthlySpending</th>\n",
       "                        <td id=\"T_7244e_row1_col0\" class=\"data row1 col0\" >0.249</td>\n",
       "                        <td id=\"T_7244e_row1_col1\" class=\"data row1 col1\" >1.000</td>\n",
       "                        <td id=\"T_7244e_row1_col2\" class=\"data row1 col2\" >0.652</td>\n",
       "                        <td id=\"T_7244e_row1_col3\" class=\"data row1 col3\" >0.185</td>\n",
       "            </tr>\n",
       "            <tr>\n",
       "                        <th id=\"T_7244e_level0_row2\" class=\"row_heading level0 row2\" >TotalSpent</th>\n",
       "                        <td id=\"T_7244e_row2_col0\" class=\"data row2 col0\" >0.826</td>\n",
       "                        <td id=\"T_7244e_row2_col1\" class=\"data row2 col1\" >0.652</td>\n",
       "                        <td id=\"T_7244e_row2_col2\" class=\"data row2 col2\" >1.000</td>\n",
       "                        <td id=\"T_7244e_row2_col3\" class=\"data row2 col3\" >-0.201</td>\n",
       "            </tr>\n",
       "            <tr>\n",
       "                        <th id=\"T_7244e_level0_row3\" class=\"row_heading level0 row3\" >Churn</th>\n",
       "                        <td id=\"T_7244e_row3_col0\" class=\"data row3 col0\" >-0.351</td>\n",
       "                        <td id=\"T_7244e_row3_col1\" class=\"data row3 col1\" >0.185</td>\n",
       "                        <td id=\"T_7244e_row3_col2\" class=\"data row3 col2\" >-0.201</td>\n",
       "                        <td id=\"T_7244e_row3_col3\" class=\"data row3 col3\" >1.000</td>\n",
       "            </tr>\n",
       "    </tbody></table>"
      ],
      "text/plain": [
       "<pandas.io.formats.style.Styler at 0x2256640a550>"
      ]
     },
     "execution_count": 108,
     "metadata": {},
     "output_type": "execute_result"
    }
   ],
   "source": [
    "data.corr().style.background_gradient(cmap='seismic').set_precision(3)"
   ]
  },
  {
   "cell_type": "markdown",
   "metadata": {},
   "source": [
    "### **Аномальных корреляций между числовыми признаками не обнаружено**\n",
    "\n",
    "*Ожидаемо период отношений с клиентом очень сильно связан с общим количеством затрат это клиента на наши услуги, то же самое можно и сказать про ежемесечные затраты.*"
   ]
  },
  {
   "cell_type": "markdown",
   "metadata": {
    "id": "DviiJd8REEZK"
   },
   "source": [
    "## Применение линейных моделей (3 балла)\n",
    "\n",
    "1) Обработайте данные для того, чтобы к ним можно было применить LogisticRegression. Т.е. отнормируйте числовые признаки, а категориальные закодируйте с помощью one-hot-encoding'а.\n",
    "\n",
    "2) С помощью кроссвалидации или разделения на train/valid выборку протестируйте разные значения гиперпараметра C и выберите лучший (можно тестировать С=100, 10, 1, 0.1, 0.01, 0.001) по метрике ROC-AUC. \n",
    "\n",
    "Если вы разделяете на train/valid, то используйте LogisticRegressionCV. Он сам при вызове .fit() подберет параметр С. (не забудьте передать scroing='roc_auc', чтобы при кроссвалидации сравнивались значения этой метрики, и refit=True, чтобы при потом модель обучилась на всем датасете с лучшим параметром C). \n",
    "\n",
    "\n",
    "(более сложный вариант) Если вы будете использовать кроссвалидацию, то преобразования данных и LogisticRegression нужно соединить в один Pipeline с помощью make_pipeline, как это делалось во втором семинаре. Потом pipeline надо передать в GridSearchCV. Для one-hot-encoding'a можно испльзовать комбинацию LabelEncoder + OneHotEncoder (сначала превращаем строчки в числа, а потом числа првращаем в one-hot вектора.)"
   ]
  },
  {
   "cell_type": "code",
   "execution_count": 109,
   "metadata": {
    "id": "xHCLDmwqEEZL"
   },
   "outputs": [],
   "source": [
    "from sklearn.linear_model import LogisticRegression, LogisticRegressionCV\n",
    "from sklearn.model_selection import train_test_split, GridSearchCV\n",
    "from sklearn.preprocessing import StandardScaler, RobustScaler, LabelEncoder, OneHotEncoder\n",
    "from sklearn.pipeline import make_pipeline"
   ]
  },
  {
   "cell_type": "markdown",
   "metadata": {},
   "source": [
    "*С помощью pd.get_dummies() до генерируем One-hot признаки для нашего датасета.*"
   ]
  },
  {
   "cell_type": "code",
   "execution_count": 110,
   "metadata": {
    "id": "P2Yv3uYtEEZO",
    "scrolled": true
   },
   "outputs": [
    {
     "name": "stdout",
     "output_type": "stream",
     "text": [
      "(5282, 46) (5282,)\n"
     ]
    }
   ],
   "source": [
    "dummy_features=pd.get_dummies(data[cat_cols])\n",
    "X=pd.concat([data[num_cols],dummy_features],axis=1)\n",
    "y=data[target_col]\n",
    "print(X.shape,y.shape)"
   ]
  },
  {
   "cell_type": "markdown",
   "metadata": {},
   "source": [
    "#### Разделим наш датасет на train и validation"
   ]
  },
  {
   "cell_type": "code",
   "execution_count": 111,
   "metadata": {},
   "outputs": [],
   "source": [
    "X_train, X_vd, y_train, y_vd = train_test_split(X, y, \n",
    "                                                    train_size=0.7,\n",
    "                                                    random_state=42)"
   ]
  },
  {
   "cell_type": "markdown",
   "metadata": {},
   "source": [
    "Отнормируем наши признаки, следя за тем, чтобы данные из validation не проникли в test выборку"
   ]
  },
  {
   "cell_type": "code",
   "execution_count": 112,
   "metadata": {
    "scrolled": false
   },
   "outputs": [
    {
     "name": "stdout",
     "output_type": "stream",
     "text": [
      "(3697, 46) (1585, 46)\n"
     ]
    }
   ],
   "source": [
    "scaler=StandardScaler()\n",
    "X_trainsc = scaler.fit_transform(X_train)\n",
    "X_vdsc = scaler.transform(X_vd)\n",
    "print(X_trainsc.shape,X_vdsc.shape)"
   ]
  },
  {
   "cell_type": "markdown",
   "metadata": {},
   "source": [
    "Вопрос к проверяющим. Можно ли было применять StandardScaler() к датасету с one-hot-encoding'ом (как в семинаре model_selection_ensembles в главе Нормировка признаков), или нужно было отдельно применить его только к числовым признакам?"
   ]
  },
  {
   "cell_type": "markdown",
   "metadata": {},
   "source": [
    "**Воспользуемся LogisticRegressionCV(), чтобы определить наилучшее значение гиперпараметра C.**"
   ]
  },
  {
   "cell_type": "code",
   "execution_count": 126,
   "metadata": {},
   "outputs": [
    {
     "name": "stdout",
     "output_type": "stream",
     "text": [
      "Best C param is 100\n"
     ]
    }
   ],
   "source": [
    "cs=[100, 10, 1, 0.1, 0.01, 0.001]\n",
    "log=LogisticRegressionCV(Cs=cs, max_iter=1000, cv=3, scoring='roc_auc', n_jobs=-1, refit=True, random_state=42)\n",
    "log.fit(X_train, y_train)\n",
    "print('Best C param is',int(log.C_[0]))"
   ]
  },
  {
   "cell_type": "markdown",
   "metadata": {},
   "source": [
    "*Оценим точность модели с параметром C=100 на валидационной выборке*"
   ]
  },
  {
   "cell_type": "code",
   "execution_count": 127,
   "metadata": {
    "scrolled": true
   },
   "outputs": [
    {
     "data": {
      "text/plain": [
       "0.8328874462716656"
      ]
     },
     "execution_count": 127,
     "metadata": {},
     "output_type": "execute_result"
    }
   ],
   "source": [
    "roc_auc_score(y_vd, log.predict_proba(X_vd)[:, 1])"
   ]
  },
  {
   "cell_type": "markdown",
   "metadata": {
    "id": "uVahy6JKEEZQ"
   },
   "source": [
    "Выпишите какое лучшее качество и с какими параметрами вам удалось получить"
   ]
  },
  {
   "cell_type": "markdown",
   "metadata": {
    "id": "BlTeVy7fEEZR"
   },
   "source": [
    "## Применение градиентного бустинга (2 балла)\n",
    "\n",
    "Если вы хотите получить баллы за точный ответ, то стоит попробовать градиентный бустинг. Часто градиентный бустинг с дефолтными параметрами даст вам 80% результата за 0% усилий.\n",
    "\n",
    "Мы будем использовать catboost, поэтому нам не надо кодировать категориальные признаки. catboost сделает это сам (в .fit() надо передать cat_features=cat_cols). А численные признаки нормировать для моделей, основанных на деревьях не нужно.\n",
    "\n",
    "1) Разделите выборку на train/valid. Протестируйте catboost cо стандартными параметрами.\n",
    "\n",
    "2) Протестируйте разные занчения параметроа количества деревьев и learning_rate'а и выберите лучшую по метрике ROC-AUC комбинацию. \n",
    "\n",
    "(Дополнительно) Есть некоторые сложности с тем, чтобы использовать CatBoostClassifier вместе с GridSearchCV, поэтому мы не просим использовать кроссвалидацию. Но можете попробовать)"
   ]
  },
  {
   "cell_type": "markdown",
   "metadata": {},
   "source": [
    "### Разделим оригинальную обучающую выборку (без one-hot-encoding'а) на train и validation в соотношении 0.7 к 0.3."
   ]
  },
  {
   "cell_type": "code",
   "execution_count": 115,
   "metadata": {
    "id": "Fioxxlp-EEZS"
   },
   "outputs": [],
   "source": [
    "import catboost\n",
    "X_og=data.iloc[:, :-1]\n",
    "y=data[target_col]\n",
    "X_ogtrain, X_ogvd, y_ogtrain, y_ogvd = train_test_split(X_og, y, \n",
    "                                                    train_size=0.7,\n",
    "                                                    random_state=42)"
   ]
  },
  {
   "cell_type": "markdown",
   "metadata": {},
   "source": [
    "Протестируем catboost с стандартными параметрами и ограничением 200 на количество деревьев"
   ]
  },
  {
   "cell_type": "code",
   "execution_count": 116,
   "metadata": {},
   "outputs": [
    {
     "name": "stdout",
     "output_type": "stream",
     "text": [
      "Learning rate set to 0.07877\n",
      "0:\tlearn: 0.6482367\ttotal: 25.2ms\tremaining: 5.01s\n",
      "1:\tlearn: 0.6168329\ttotal: 51.5ms\tremaining: 5.1s\n",
      "2:\tlearn: 0.5862711\ttotal: 76.8ms\tremaining: 5.04s\n",
      "3:\tlearn: 0.5539368\ttotal: 110ms\tremaining: 5.39s\n",
      "4:\tlearn: 0.5320107\ttotal: 126ms\tremaining: 4.93s\n",
      "5:\tlearn: 0.5122325\ttotal: 150ms\tremaining: 4.86s\n",
      "6:\tlearn: 0.4975691\ttotal: 164ms\tremaining: 4.53s\n",
      "7:\tlearn: 0.4834125\ttotal: 188ms\tremaining: 4.5s\n",
      "8:\tlearn: 0.4733653\ttotal: 210ms\tremaining: 4.47s\n",
      "9:\tlearn: 0.4622326\ttotal: 250ms\tremaining: 4.75s\n",
      "10:\tlearn: 0.4535511\ttotal: 275ms\tremaining: 4.73s\n",
      "11:\tlearn: 0.4465989\ttotal: 303ms\tremaining: 4.74s\n",
      "12:\tlearn: 0.4401222\ttotal: 329ms\tremaining: 4.74s\n",
      "13:\tlearn: 0.4350759\ttotal: 357ms\tremaining: 4.74s\n",
      "14:\tlearn: 0.4310828\ttotal: 385ms\tremaining: 4.74s\n",
      "15:\tlearn: 0.4294801\ttotal: 393ms\tremaining: 4.52s\n",
      "16:\tlearn: 0.4270763\ttotal: 408ms\tremaining: 4.39s\n",
      "17:\tlearn: 0.4226485\ttotal: 435ms\tremaining: 4.4s\n",
      "18:\tlearn: 0.4205686\ttotal: 453ms\tremaining: 4.31s\n",
      "19:\tlearn: 0.4171258\ttotal: 478ms\tremaining: 4.3s\n",
      "20:\tlearn: 0.4143926\ttotal: 533ms\tremaining: 4.54s\n",
      "21:\tlearn: 0.4117595\ttotal: 565ms\tremaining: 4.57s\n",
      "22:\tlearn: 0.4094695\ttotal: 596ms\tremaining: 4.58s\n",
      "23:\tlearn: 0.4078057\ttotal: 622ms\tremaining: 4.56s\n",
      "24:\tlearn: 0.4065997\ttotal: 649ms\tremaining: 4.54s\n",
      "25:\tlearn: 0.4062208\ttotal: 658ms\tremaining: 4.41s\n",
      "26:\tlearn: 0.4042548\ttotal: 683ms\tremaining: 4.38s\n",
      "27:\tlearn: 0.4024601\ttotal: 708ms\tremaining: 4.35s\n",
      "28:\tlearn: 0.4005335\ttotal: 735ms\tremaining: 4.33s\n",
      "29:\tlearn: 0.3990011\ttotal: 762ms\tremaining: 4.32s\n",
      "30:\tlearn: 0.3977193\ttotal: 791ms\tremaining: 4.31s\n",
      "31:\tlearn: 0.3977029\ttotal: 797ms\tremaining: 4.18s\n",
      "32:\tlearn: 0.3961653\ttotal: 821ms\tremaining: 4.15s\n",
      "33:\tlearn: 0.3948688\ttotal: 849ms\tremaining: 4.14s\n",
      "34:\tlearn: 0.3944038\ttotal: 870ms\tremaining: 4.1s\n",
      "35:\tlearn: 0.3932756\ttotal: 895ms\tremaining: 4.08s\n",
      "36:\tlearn: 0.3924028\ttotal: 920ms\tremaining: 4.05s\n",
      "37:\tlearn: 0.3915464\ttotal: 943ms\tremaining: 4.02s\n",
      "38:\tlearn: 0.3908582\ttotal: 966ms\tremaining: 3.99s\n",
      "39:\tlearn: 0.3892953\ttotal: 991ms\tremaining: 3.96s\n",
      "40:\tlearn: 0.3888805\ttotal: 1.03s\tremaining: 3.98s\n",
      "41:\tlearn: 0.3885628\ttotal: 1.07s\tremaining: 4.01s\n",
      "42:\tlearn: 0.3877742\ttotal: 1.1s\tremaining: 4.01s\n",
      "43:\tlearn: 0.3876832\ttotal: 1.11s\tremaining: 3.92s\n",
      "44:\tlearn: 0.3871736\ttotal: 1.12s\tremaining: 3.87s\n",
      "45:\tlearn: 0.3863808\ttotal: 1.15s\tremaining: 3.84s\n",
      "46:\tlearn: 0.3859462\ttotal: 1.17s\tremaining: 3.81s\n",
      "47:\tlearn: 0.3856836\ttotal: 1.2s\tremaining: 3.79s\n",
      "48:\tlearn: 0.3850738\ttotal: 1.23s\tremaining: 3.77s\n",
      "49:\tlearn: 0.3844771\ttotal: 1.25s\tremaining: 3.75s\n",
      "50:\tlearn: 0.3833461\ttotal: 1.28s\tremaining: 3.74s\n",
      "51:\tlearn: 0.3829757\ttotal: 1.31s\tremaining: 3.72s\n",
      "52:\tlearn: 0.3829660\ttotal: 1.32s\tremaining: 3.65s\n",
      "53:\tlearn: 0.3826397\ttotal: 1.36s\tremaining: 3.69s\n",
      "54:\tlearn: 0.3823600\ttotal: 1.39s\tremaining: 3.67s\n",
      "55:\tlearn: 0.3823504\ttotal: 1.41s\tremaining: 3.62s\n",
      "56:\tlearn: 0.3813557\ttotal: 1.44s\tremaining: 3.6s\n",
      "57:\tlearn: 0.3805592\ttotal: 1.47s\tremaining: 3.59s\n",
      "58:\tlearn: 0.3805312\ttotal: 1.49s\tremaining: 3.56s\n",
      "59:\tlearn: 0.3793747\ttotal: 1.52s\tremaining: 3.55s\n",
      "60:\tlearn: 0.3789774\ttotal: 1.55s\tremaining: 3.53s\n",
      "61:\tlearn: 0.3787642\ttotal: 1.58s\tremaining: 3.51s\n",
      "62:\tlearn: 0.3781622\ttotal: 1.61s\tremaining: 3.49s\n",
      "63:\tlearn: 0.3781251\ttotal: 1.61s\tremaining: 3.43s\n",
      "64:\tlearn: 0.3781220\ttotal: 1.63s\tremaining: 3.38s\n",
      "65:\tlearn: 0.3780711\ttotal: 1.63s\tremaining: 3.32s\n",
      "66:\tlearn: 0.3777193\ttotal: 1.66s\tremaining: 3.29s\n",
      "67:\tlearn: 0.3776453\ttotal: 1.67s\tremaining: 3.24s\n",
      "68:\tlearn: 0.3775312\ttotal: 1.68s\tremaining: 3.19s\n",
      "69:\tlearn: 0.3773468\ttotal: 1.72s\tremaining: 3.19s\n",
      "70:\tlearn: 0.3769579\ttotal: 1.74s\tremaining: 3.16s\n",
      "71:\tlearn: 0.3767097\ttotal: 1.77s\tremaining: 3.14s\n",
      "72:\tlearn: 0.3767077\ttotal: 1.78s\tremaining: 3.09s\n",
      "73:\tlearn: 0.3757261\ttotal: 1.8s\tremaining: 3.07s\n",
      "74:\tlearn: 0.3752606\ttotal: 1.83s\tremaining: 3.05s\n",
      "75:\tlearn: 0.3748501\ttotal: 1.85s\tremaining: 3.03s\n",
      "76:\tlearn: 0.3742754\ttotal: 1.88s\tremaining: 3.01s\n",
      "77:\tlearn: 0.3741775\ttotal: 1.91s\tremaining: 2.98s\n",
      "78:\tlearn: 0.3735439\ttotal: 1.94s\tremaining: 2.97s\n",
      "79:\tlearn: 0.3735024\ttotal: 1.95s\tremaining: 2.93s\n",
      "80:\tlearn: 0.3729425\ttotal: 1.98s\tremaining: 2.9s\n",
      "81:\tlearn: 0.3726791\ttotal: 2s\tremaining: 2.89s\n",
      "82:\tlearn: 0.3726753\ttotal: 2.04s\tremaining: 2.87s\n",
      "83:\tlearn: 0.3724474\ttotal: 2.07s\tremaining: 2.86s\n",
      "84:\tlearn: 0.3715672\ttotal: 2.1s\tremaining: 2.85s\n",
      "85:\tlearn: 0.3713590\ttotal: 2.13s\tremaining: 2.82s\n",
      "86:\tlearn: 0.3706177\ttotal: 2.15s\tremaining: 2.8s\n",
      "87:\tlearn: 0.3706157\ttotal: 2.17s\tremaining: 2.76s\n",
      "88:\tlearn: 0.3698449\ttotal: 2.19s\tremaining: 2.74s\n",
      "89:\tlearn: 0.3692687\ttotal: 2.22s\tremaining: 2.71s\n",
      "90:\tlearn: 0.3689510\ttotal: 2.25s\tremaining: 2.69s\n",
      "91:\tlearn: 0.3684347\ttotal: 2.27s\tremaining: 2.67s\n",
      "92:\tlearn: 0.3683787\ttotal: 2.3s\tremaining: 2.64s\n",
      "93:\tlearn: 0.3681279\ttotal: 2.33s\tremaining: 2.62s\n",
      "94:\tlearn: 0.3681039\ttotal: 2.34s\tremaining: 2.58s\n",
      "95:\tlearn: 0.3679097\ttotal: 2.35s\tremaining: 2.54s\n",
      "96:\tlearn: 0.3673080\ttotal: 2.38s\tremaining: 2.52s\n",
      "97:\tlearn: 0.3667936\ttotal: 2.4s\tremaining: 2.5s\n",
      "98:\tlearn: 0.3659942\ttotal: 2.43s\tremaining: 2.48s\n",
      "99:\tlearn: 0.3658903\ttotal: 2.45s\tremaining: 2.45s\n",
      "100:\tlearn: 0.3654931\ttotal: 2.48s\tremaining: 2.43s\n",
      "101:\tlearn: 0.3653892\ttotal: 2.5s\tremaining: 2.4s\n",
      "102:\tlearn: 0.3650947\ttotal: 2.52s\tremaining: 2.38s\n",
      "103:\tlearn: 0.3647468\ttotal: 2.56s\tremaining: 2.36s\n",
      "104:\tlearn: 0.3638411\ttotal: 2.59s\tremaining: 2.35s\n",
      "105:\tlearn: 0.3634991\ttotal: 2.62s\tremaining: 2.33s\n",
      "106:\tlearn: 0.3631134\ttotal: 2.65s\tremaining: 2.3s\n",
      "107:\tlearn: 0.3626309\ttotal: 2.68s\tremaining: 2.28s\n",
      "108:\tlearn: 0.3622359\ttotal: 2.71s\tremaining: 2.26s\n",
      "109:\tlearn: 0.3620920\ttotal: 2.73s\tremaining: 2.23s\n",
      "110:\tlearn: 0.3613974\ttotal: 2.77s\tremaining: 2.22s\n",
      "111:\tlearn: 0.3610461\ttotal: 2.8s\tremaining: 2.2s\n",
      "112:\tlearn: 0.3607947\ttotal: 2.83s\tremaining: 2.18s\n",
      "113:\tlearn: 0.3603841\ttotal: 2.85s\tremaining: 2.15s\n",
      "114:\tlearn: 0.3602748\ttotal: 2.87s\tremaining: 2.12s\n",
      "115:\tlearn: 0.3600548\ttotal: 2.9s\tremaining: 2.1s\n",
      "116:\tlearn: 0.3596417\ttotal: 2.92s\tremaining: 2.08s\n",
      "117:\tlearn: 0.3592368\ttotal: 2.95s\tremaining: 2.05s\n",
      "118:\tlearn: 0.3587551\ttotal: 2.98s\tremaining: 2.02s\n",
      "119:\tlearn: 0.3573422\ttotal: 3s\tremaining: 2s\n",
      "120:\tlearn: 0.3569537\ttotal: 3.07s\tremaining: 2s\n",
      "121:\tlearn: 0.3567925\ttotal: 3.13s\tremaining: 2s\n",
      "122:\tlearn: 0.3562712\ttotal: 3.16s\tremaining: 1.98s\n",
      "123:\tlearn: 0.3555173\ttotal: 3.19s\tremaining: 1.96s\n",
      "124:\tlearn: 0.3553829\ttotal: 3.22s\tremaining: 1.93s\n",
      "125:\tlearn: 0.3548028\ttotal: 3.24s\tremaining: 1.9s\n",
      "126:\tlearn: 0.3542526\ttotal: 3.26s\tremaining: 1.88s\n",
      "127:\tlearn: 0.3541002\ttotal: 3.29s\tremaining: 1.85s\n",
      "128:\tlearn: 0.3533302\ttotal: 3.31s\tremaining: 1.82s\n",
      "129:\tlearn: 0.3527192\ttotal: 3.33s\tremaining: 1.79s\n",
      "130:\tlearn: 0.3524345\ttotal: 3.36s\tremaining: 1.77s\n",
      "131:\tlearn: 0.3522923\ttotal: 3.38s\tremaining: 1.74s\n",
      "132:\tlearn: 0.3522796\ttotal: 3.4s\tremaining: 1.71s\n",
      "133:\tlearn: 0.3516416\ttotal: 3.42s\tremaining: 1.69s\n",
      "134:\tlearn: 0.3506337\ttotal: 3.45s\tremaining: 1.66s\n",
      "135:\tlearn: 0.3504472\ttotal: 3.47s\tremaining: 1.63s\n",
      "136:\tlearn: 0.3497934\ttotal: 3.5s\tremaining: 1.61s\n",
      "137:\tlearn: 0.3496486\ttotal: 3.52s\tremaining: 1.58s\n",
      "138:\tlearn: 0.3492304\ttotal: 3.57s\tremaining: 1.57s\n",
      "139:\tlearn: 0.3490215\ttotal: 3.62s\tremaining: 1.55s\n",
      "140:\tlearn: 0.3485248\ttotal: 3.65s\tremaining: 1.53s\n",
      "141:\tlearn: 0.3476614\ttotal: 3.68s\tremaining: 1.5s\n",
      "142:\tlearn: 0.3471935\ttotal: 3.7s\tremaining: 1.47s\n",
      "143:\tlearn: 0.3470357\ttotal: 3.73s\tremaining: 1.45s\n",
      "144:\tlearn: 0.3469263\ttotal: 3.75s\tremaining: 1.42s\n",
      "145:\tlearn: 0.3469016\ttotal: 3.77s\tremaining: 1.4s\n",
      "146:\tlearn: 0.3463349\ttotal: 3.8s\tremaining: 1.37s\n",
      "147:\tlearn: 0.3459979\ttotal: 3.83s\tremaining: 1.34s\n",
      "148:\tlearn: 0.3456051\ttotal: 3.85s\tremaining: 1.32s\n",
      "149:\tlearn: 0.3455080\ttotal: 3.88s\tremaining: 1.29s\n",
      "150:\tlearn: 0.3453468\ttotal: 3.9s\tremaining: 1.26s\n",
      "151:\tlearn: 0.3452427\ttotal: 3.93s\tremaining: 1.24s\n",
      "152:\tlearn: 0.3448572\ttotal: 3.95s\tremaining: 1.21s\n",
      "153:\tlearn: 0.3442149\ttotal: 3.98s\tremaining: 1.19s\n",
      "154:\tlearn: 0.3435373\ttotal: 4s\tremaining: 1.16s\n",
      "155:\tlearn: 0.3433722\ttotal: 4.03s\tremaining: 1.14s\n",
      "156:\tlearn: 0.3429132\ttotal: 4.06s\tremaining: 1.11s\n",
      "157:\tlearn: 0.3421301\ttotal: 4.08s\tremaining: 1.08s\n",
      "158:\tlearn: 0.3417539\ttotal: 4.11s\tremaining: 1.06s\n",
      "159:\tlearn: 0.3409094\ttotal: 4.13s\tremaining: 1.03s\n",
      "160:\tlearn: 0.3402326\ttotal: 4.16s\tremaining: 1.01s\n",
      "161:\tlearn: 0.3396583\ttotal: 4.18s\tremaining: 981ms\n",
      "162:\tlearn: 0.3396381\ttotal: 4.21s\tremaining: 955ms\n",
      "163:\tlearn: 0.3393391\ttotal: 4.23s\tremaining: 929ms\n",
      "164:\tlearn: 0.3387806\ttotal: 4.26s\tremaining: 903ms\n"
     ]
    },
    {
     "name": "stdout",
     "output_type": "stream",
     "text": [
      "165:\tlearn: 0.3387259\ttotal: 4.28s\tremaining: 878ms\n",
      "166:\tlearn: 0.3378288\ttotal: 4.31s\tremaining: 852ms\n",
      "167:\tlearn: 0.3371820\ttotal: 4.33s\tremaining: 825ms\n",
      "168:\tlearn: 0.3366076\ttotal: 4.36s\tremaining: 800ms\n",
      "169:\tlearn: 0.3362541\ttotal: 4.38s\tremaining: 774ms\n",
      "170:\tlearn: 0.3362068\ttotal: 4.41s\tremaining: 748ms\n",
      "171:\tlearn: 0.3360285\ttotal: 4.43s\tremaining: 721ms\n",
      "172:\tlearn: 0.3352542\ttotal: 4.46s\tremaining: 695ms\n",
      "173:\tlearn: 0.3346419\ttotal: 4.48s\tremaining: 669ms\n",
      "174:\tlearn: 0.3341369\ttotal: 4.5s\tremaining: 644ms\n",
      "175:\tlearn: 0.3339883\ttotal: 4.53s\tremaining: 618ms\n",
      "176:\tlearn: 0.3338135\ttotal: 4.56s\tremaining: 593ms\n",
      "177:\tlearn: 0.3334423\ttotal: 4.6s\tremaining: 568ms\n",
      "178:\tlearn: 0.3328654\ttotal: 4.62s\tremaining: 542ms\n",
      "179:\tlearn: 0.3321439\ttotal: 4.64s\tremaining: 516ms\n",
      "180:\tlearn: 0.3315733\ttotal: 4.67s\tremaining: 490ms\n",
      "181:\tlearn: 0.3315230\ttotal: 4.69s\tremaining: 464ms\n",
      "182:\tlearn: 0.3309530\ttotal: 4.72s\tremaining: 438ms\n",
      "183:\tlearn: 0.3305396\ttotal: 4.74s\tremaining: 413ms\n",
      "184:\tlearn: 0.3303220\ttotal: 4.77s\tremaining: 387ms\n",
      "185:\tlearn: 0.3302554\ttotal: 4.79s\tremaining: 361ms\n",
      "186:\tlearn: 0.3301170\ttotal: 4.82s\tremaining: 335ms\n",
      "187:\tlearn: 0.3300678\ttotal: 4.84s\tremaining: 309ms\n",
      "188:\tlearn: 0.3298252\ttotal: 4.87s\tremaining: 283ms\n",
      "189:\tlearn: 0.3294308\ttotal: 4.89s\tremaining: 257ms\n",
      "190:\tlearn: 0.3287512\ttotal: 4.92s\tremaining: 232ms\n",
      "191:\tlearn: 0.3279180\ttotal: 4.94s\tremaining: 206ms\n",
      "192:\tlearn: 0.3277891\ttotal: 4.96s\tremaining: 180ms\n",
      "193:\tlearn: 0.3270550\ttotal: 4.99s\tremaining: 154ms\n",
      "194:\tlearn: 0.3267365\ttotal: 5.02s\tremaining: 129ms\n",
      "195:\tlearn: 0.3261495\ttotal: 5.05s\tremaining: 103ms\n",
      "196:\tlearn: 0.3260860\ttotal: 5.07s\tremaining: 77.2ms\n",
      "197:\tlearn: 0.3256333\ttotal: 5.09s\tremaining: 51.5ms\n",
      "198:\tlearn: 0.3247468\ttotal: 5.12s\tremaining: 25.7ms\n",
      "199:\tlearn: 0.3242459\ttotal: 5.14s\tremaining: 0us\n"
     ]
    },
    {
     "data": {
      "text/plain": [
       "<catboost.core.CatBoostClassifier at 0x225664d0a60>"
      ]
     },
     "execution_count": 116,
     "metadata": {},
     "output_type": "execute_result"
    }
   ],
   "source": [
    "boosting_model = catboost.CatBoostClassifier(iterations=200,cat_features=cat_cols)\n",
    "boosting_model.fit(X_ogtrain, y_ogtrain)"
   ]
  },
  {
   "cell_type": "code",
   "execution_count": 117,
   "metadata": {},
   "outputs": [
    {
     "name": "stdout",
     "output_type": "stream",
     "text": [
      "0.8976075498255544\n"
     ]
    }
   ],
   "source": [
    "train_auc=roc_auc_score(y_ogtrain,boosting_model.predict_proba(X_ogtrain)[:,1])\n",
    "print(train_auc)"
   ]
  },
  {
   "cell_type": "markdown",
   "metadata": {},
   "source": [
    "**Точность на валидационной выборке:**"
   ]
  },
  {
   "cell_type": "code",
   "execution_count": 118,
   "metadata": {
    "scrolled": true
   },
   "outputs": [
    {
     "data": {
      "text/plain": [
       "0.8289611042784024"
      ]
     },
     "execution_count": 118,
     "metadata": {},
     "output_type": "execute_result"
    }
   ],
   "source": [
    "vd_auc=roc_auc_score(y_ogvd,boosting_model.predict_proba(X_ogvd)[:,1])\n",
    "vd_auc"
   ]
  },
  {
   "cell_type": "markdown",
   "metadata": {},
   "source": [
    "### Для того чтобы увеличить точность на валидационной выборке, протестируем различные параметры, и выберем те, которые обеспечивают наибольшее значение ROC AUC"
   ]
  },
  {
   "cell_type": "code",
   "execution_count": 3,
   "metadata": {
    "scrolled": true
   },
   "outputs": [],
   "source": [
    "boosting_model = catboost.CatBoostClassifier(cat_features=cat_cols,eval_metric='AUC')\n",
    "param_grid={\n",
    "    'learning_rate': [0.05, 0.02, 0.03],\n",
    "    'depth': [4, 5, 7],\n",
    "    'iterations':[170, 200, 120]\n",
    "}\n",
    "grid_search_result=boosting_model.grid_search(param_grid,X_ogtrain,y_ogtrain,plot=True)"
   ]
  },
  {
   "cell_type": "markdown",
   "metadata": {},
   "source": [
    "##### Выведем параметры, которые обеспечивают наибольшее значение метрики ROC AUC"
   ]
  },
  {
   "cell_type": "code",
   "execution_count": 120,
   "metadata": {
    "scrolled": true
   },
   "outputs": [
    {
     "data": {
      "text/plain": [
       "{'depth': 3, 'iterations': 200, 'learning_rate': 0.05}"
      ]
     },
     "execution_count": 120,
     "metadata": {},
     "output_type": "execute_result"
    }
   ],
   "source": [
    "grid_search_result['params']"
   ]
  },
  {
   "cell_type": "markdown",
   "metadata": {},
   "source": [
    "*Построим модель градиентного бустинга с этими параметрами*"
   ]
  },
  {
   "cell_type": "code",
   "execution_count": 121,
   "metadata": {},
   "outputs": [
    {
     "name": "stdout",
     "output_type": "stream",
     "text": [
      "0:\tlearn: 0.6683819\ttotal: 17.5ms\tremaining: 3.49s\n",
      "1:\tlearn: 0.6458980\ttotal: 33.6ms\tremaining: 3.32s\n",
      "2:\tlearn: 0.6256657\ttotal: 46.4ms\tremaining: 3.04s\n",
      "3:\tlearn: 0.6079321\ttotal: 62.9ms\tremaining: 3.08s\n",
      "4:\tlearn: 0.5914460\ttotal: 77.1ms\tremaining: 3s\n",
      "5:\tlearn: 0.5772707\ttotal: 89.2ms\tremaining: 2.88s\n",
      "6:\tlearn: 0.5610805\ttotal: 102ms\tremaining: 2.81s\n",
      "7:\tlearn: 0.5469150\ttotal: 115ms\tremaining: 2.75s\n",
      "8:\tlearn: 0.5342445\ttotal: 128ms\tremaining: 2.71s\n",
      "9:\tlearn: 0.5232647\ttotal: 141ms\tremaining: 2.67s\n",
      "10:\tlearn: 0.5119648\ttotal: 152ms\tremaining: 2.61s\n",
      "11:\tlearn: 0.5024697\ttotal: 165ms\tremaining: 2.58s\n",
      "12:\tlearn: 0.4949736\ttotal: 179ms\tremaining: 2.57s\n",
      "13:\tlearn: 0.4873053\ttotal: 193ms\tremaining: 2.56s\n",
      "14:\tlearn: 0.4816122\ttotal: 208ms\tremaining: 2.56s\n",
      "15:\tlearn: 0.4761812\ttotal: 219ms\tremaining: 2.52s\n",
      "16:\tlearn: 0.4712057\ttotal: 242ms\tremaining: 2.6s\n",
      "17:\tlearn: 0.4658001\ttotal: 279ms\tremaining: 2.82s\n",
      "18:\tlearn: 0.4612152\ttotal: 295ms\tremaining: 2.81s\n",
      "19:\tlearn: 0.4580095\ttotal: 310ms\tremaining: 2.79s\n",
      "20:\tlearn: 0.4548224\ttotal: 324ms\tremaining: 2.76s\n",
      "21:\tlearn: 0.4517336\ttotal: 335ms\tremaining: 2.71s\n",
      "22:\tlearn: 0.4488875\ttotal: 351ms\tremaining: 2.7s\n",
      "23:\tlearn: 0.4462089\ttotal: 366ms\tremaining: 2.68s\n",
      "24:\tlearn: 0.4432063\ttotal: 396ms\tremaining: 2.77s\n",
      "25:\tlearn: 0.4414227\ttotal: 426ms\tremaining: 2.85s\n",
      "26:\tlearn: 0.4398249\ttotal: 457ms\tremaining: 2.93s\n",
      "27:\tlearn: 0.4376517\ttotal: 479ms\tremaining: 2.94s\n",
      "28:\tlearn: 0.4359682\ttotal: 491ms\tremaining: 2.89s\n",
      "29:\tlearn: 0.4344273\ttotal: 503ms\tremaining: 2.85s\n",
      "30:\tlearn: 0.4327444\ttotal: 515ms\tremaining: 2.81s\n",
      "31:\tlearn: 0.4310596\ttotal: 526ms\tremaining: 2.76s\n",
      "32:\tlearn: 0.4297325\ttotal: 539ms\tremaining: 2.73s\n",
      "33:\tlearn: 0.4284402\ttotal: 551ms\tremaining: 2.69s\n",
      "34:\tlearn: 0.4271810\ttotal: 562ms\tremaining: 2.65s\n",
      "35:\tlearn: 0.4264176\ttotal: 577ms\tremaining: 2.63s\n",
      "36:\tlearn: 0.4253909\ttotal: 592ms\tremaining: 2.61s\n",
      "37:\tlearn: 0.4242238\ttotal: 607ms\tremaining: 2.59s\n",
      "38:\tlearn: 0.4233595\ttotal: 621ms\tremaining: 2.56s\n",
      "39:\tlearn: 0.4226748\ttotal: 635ms\tremaining: 2.54s\n",
      "40:\tlearn: 0.4218322\ttotal: 648ms\tremaining: 2.51s\n",
      "41:\tlearn: 0.4211293\ttotal: 660ms\tremaining: 2.48s\n",
      "42:\tlearn: 0.4204946\ttotal: 672ms\tremaining: 2.45s\n",
      "43:\tlearn: 0.4201238\ttotal: 686ms\tremaining: 2.43s\n",
      "44:\tlearn: 0.4193829\ttotal: 699ms\tremaining: 2.41s\n",
      "45:\tlearn: 0.4186520\ttotal: 712ms\tremaining: 2.38s\n",
      "46:\tlearn: 0.4183059\ttotal: 724ms\tremaining: 2.36s\n",
      "47:\tlearn: 0.4175446\ttotal: 738ms\tremaining: 2.33s\n",
      "48:\tlearn: 0.4169974\ttotal: 751ms\tremaining: 2.31s\n",
      "49:\tlearn: 0.4165486\ttotal: 765ms\tremaining: 2.29s\n",
      "50:\tlearn: 0.4162005\ttotal: 778ms\tremaining: 2.27s\n",
      "51:\tlearn: 0.4154700\ttotal: 794ms\tremaining: 2.26s\n",
      "52:\tlearn: 0.4148751\ttotal: 811ms\tremaining: 2.25s\n",
      "53:\tlearn: 0.4142186\ttotal: 830ms\tremaining: 2.24s\n",
      "54:\tlearn: 0.4139379\ttotal: 850ms\tremaining: 2.24s\n",
      "55:\tlearn: 0.4138292\ttotal: 867ms\tremaining: 2.23s\n",
      "56:\tlearn: 0.4130522\ttotal: 881ms\tremaining: 2.21s\n",
      "57:\tlearn: 0.4122128\ttotal: 894ms\tremaining: 2.19s\n",
      "58:\tlearn: 0.4119629\ttotal: 906ms\tremaining: 2.16s\n",
      "59:\tlearn: 0.4115494\ttotal: 918ms\tremaining: 2.14s\n",
      "60:\tlearn: 0.4109821\ttotal: 930ms\tremaining: 2.12s\n",
      "61:\tlearn: 0.4107094\ttotal: 953ms\tremaining: 2.12s\n",
      "62:\tlearn: 0.4104731\ttotal: 967ms\tremaining: 2.1s\n",
      "63:\tlearn: 0.4102112\ttotal: 980ms\tremaining: 2.08s\n",
      "64:\tlearn: 0.4099191\ttotal: 1000ms\tremaining: 2.08s\n",
      "65:\tlearn: 0.4097491\ttotal: 1.01s\tremaining: 2.06s\n",
      "66:\tlearn: 0.4093401\ttotal: 1.03s\tremaining: 2.04s\n",
      "67:\tlearn: 0.4092217\ttotal: 1.04s\tremaining: 2.02s\n",
      "68:\tlearn: 0.4090439\ttotal: 1.05s\tremaining: 2s\n",
      "69:\tlearn: 0.4086066\ttotal: 1.07s\tremaining: 1.98s\n",
      "70:\tlearn: 0.4080645\ttotal: 1.08s\tremaining: 1.96s\n",
      "71:\tlearn: 0.4079080\ttotal: 1.09s\tremaining: 1.94s\n",
      "72:\tlearn: 0.4075388\ttotal: 1.11s\tremaining: 1.93s\n",
      "73:\tlearn: 0.4071686\ttotal: 1.13s\tremaining: 1.92s\n",
      "74:\tlearn: 0.4068522\ttotal: 1.14s\tremaining: 1.89s\n",
      "75:\tlearn: 0.4066528\ttotal: 1.15s\tremaining: 1.87s\n",
      "76:\tlearn: 0.4064290\ttotal: 1.16s\tremaining: 1.86s\n",
      "77:\tlearn: 0.4061086\ttotal: 1.18s\tremaining: 1.84s\n",
      "78:\tlearn: 0.4059936\ttotal: 1.19s\tremaining: 1.82s\n",
      "79:\tlearn: 0.4058796\ttotal: 1.2s\tremaining: 1.8s\n",
      "80:\tlearn: 0.4056998\ttotal: 1.21s\tremaining: 1.78s\n",
      "81:\tlearn: 0.4055063\ttotal: 1.23s\tremaining: 1.77s\n",
      "82:\tlearn: 0.4052864\ttotal: 1.24s\tremaining: 1.75s\n",
      "83:\tlearn: 0.4050383\ttotal: 1.25s\tremaining: 1.73s\n",
      "84:\tlearn: 0.4049848\ttotal: 1.26s\tremaining: 1.71s\n",
      "85:\tlearn: 0.4048665\ttotal: 1.28s\tremaining: 1.69s\n",
      "86:\tlearn: 0.4045173\ttotal: 1.29s\tremaining: 1.68s\n",
      "87:\tlearn: 0.4042228\ttotal: 1.31s\tremaining: 1.66s\n",
      "88:\tlearn: 0.4041170\ttotal: 1.32s\tremaining: 1.64s\n",
      "89:\tlearn: 0.4040784\ttotal: 1.34s\tremaining: 1.64s\n",
      "90:\tlearn: 0.4038865\ttotal: 1.35s\tremaining: 1.62s\n",
      "91:\tlearn: 0.4037475\ttotal: 1.37s\tremaining: 1.6s\n",
      "92:\tlearn: 0.4036278\ttotal: 1.38s\tremaining: 1.58s\n",
      "93:\tlearn: 0.4035055\ttotal: 1.39s\tremaining: 1.57s\n",
      "94:\tlearn: 0.4033812\ttotal: 1.4s\tremaining: 1.55s\n",
      "95:\tlearn: 0.4033511\ttotal: 1.41s\tremaining: 1.53s\n",
      "96:\tlearn: 0.4030940\ttotal: 1.43s\tremaining: 1.52s\n",
      "97:\tlearn: 0.4029723\ttotal: 1.44s\tremaining: 1.5s\n",
      "98:\tlearn: 0.4026849\ttotal: 1.46s\tremaining: 1.49s\n",
      "99:\tlearn: 0.4023932\ttotal: 1.48s\tremaining: 1.48s\n",
      "100:\tlearn: 0.4022876\ttotal: 1.49s\tremaining: 1.46s\n",
      "101:\tlearn: 0.4020261\ttotal: 1.5s\tremaining: 1.45s\n",
      "102:\tlearn: 0.4019307\ttotal: 1.52s\tremaining: 1.43s\n",
      "103:\tlearn: 0.4018471\ttotal: 1.53s\tremaining: 1.41s\n",
      "104:\tlearn: 0.4017942\ttotal: 1.54s\tremaining: 1.4s\n",
      "105:\tlearn: 0.4017502\ttotal: 1.56s\tremaining: 1.38s\n",
      "106:\tlearn: 0.4016935\ttotal: 1.57s\tremaining: 1.36s\n",
      "107:\tlearn: 0.4015648\ttotal: 1.59s\tremaining: 1.35s\n",
      "108:\tlearn: 0.4013236\ttotal: 1.6s\tremaining: 1.34s\n",
      "109:\tlearn: 0.4010895\ttotal: 1.62s\tremaining: 1.32s\n",
      "110:\tlearn: 0.4010269\ttotal: 1.63s\tremaining: 1.31s\n",
      "111:\tlearn: 0.4010216\ttotal: 1.65s\tremaining: 1.29s\n",
      "112:\tlearn: 0.4009055\ttotal: 1.66s\tremaining: 1.28s\n",
      "113:\tlearn: 0.4007226\ttotal: 1.67s\tremaining: 1.26s\n",
      "114:\tlearn: 0.4007185\ttotal: 1.68s\tremaining: 1.24s\n",
      "115:\tlearn: 0.4006780\ttotal: 1.69s\tremaining: 1.23s\n",
      "116:\tlearn: 0.4006645\ttotal: 1.71s\tremaining: 1.21s\n",
      "117:\tlearn: 0.4005728\ttotal: 1.72s\tremaining: 1.19s\n",
      "118:\tlearn: 0.4003315\ttotal: 1.73s\tremaining: 1.18s\n",
      "119:\tlearn: 0.4000790\ttotal: 1.74s\tremaining: 1.16s\n",
      "120:\tlearn: 0.3999768\ttotal: 1.76s\tremaining: 1.15s\n",
      "121:\tlearn: 0.3999660\ttotal: 1.77s\tremaining: 1.13s\n",
      "122:\tlearn: 0.3998293\ttotal: 1.78s\tremaining: 1.12s\n",
      "123:\tlearn: 0.3998293\ttotal: 1.79s\tremaining: 1.1s\n",
      "124:\tlearn: 0.3997632\ttotal: 1.81s\tremaining: 1.08s\n",
      "125:\tlearn: 0.3997009\ttotal: 1.83s\tremaining: 1.07s\n",
      "126:\tlearn: 0.3997009\ttotal: 1.84s\tremaining: 1.05s\n",
      "127:\tlearn: 0.3996651\ttotal: 1.85s\tremaining: 1.04s\n",
      "128:\tlearn: 0.3995753\ttotal: 1.86s\tremaining: 1.03s\n",
      "129:\tlearn: 0.3993463\ttotal: 1.88s\tremaining: 1.01s\n",
      "130:\tlearn: 0.3992610\ttotal: 1.89s\tremaining: 994ms\n",
      "131:\tlearn: 0.3992341\ttotal: 1.9s\tremaining: 979ms\n",
      "132:\tlearn: 0.3991292\ttotal: 1.91s\tremaining: 964ms\n",
      "133:\tlearn: 0.3989915\ttotal: 1.93s\tremaining: 949ms\n",
      "134:\tlearn: 0.3989095\ttotal: 1.94s\tremaining: 934ms\n",
      "135:\tlearn: 0.3989095\ttotal: 1.95s\tremaining: 916ms\n",
      "136:\tlearn: 0.3988959\ttotal: 1.96s\tremaining: 901ms\n",
      "137:\tlearn: 0.3988481\ttotal: 1.97s\tremaining: 885ms\n",
      "138:\tlearn: 0.3987109\ttotal: 1.98s\tremaining: 870ms\n",
      "139:\tlearn: 0.3985823\ttotal: 2s\tremaining: 856ms\n",
      "140:\tlearn: 0.3984379\ttotal: 2.01s\tremaining: 841ms\n",
      "141:\tlearn: 0.3983374\ttotal: 2.03s\tremaining: 828ms\n",
      "142:\tlearn: 0.3982677\ttotal: 2.04s\tremaining: 814ms\n",
      "143:\tlearn: 0.3981572\ttotal: 2.05s\tremaining: 798ms\n",
      "144:\tlearn: 0.3980800\ttotal: 2.06s\tremaining: 783ms\n",
      "145:\tlearn: 0.3979880\ttotal: 2.08s\tremaining: 770ms\n",
      "146:\tlearn: 0.3978429\ttotal: 2.1s\tremaining: 756ms\n",
      "147:\tlearn: 0.3977119\ttotal: 2.14s\tremaining: 751ms\n",
      "148:\tlearn: 0.3976574\ttotal: 2.15s\tremaining: 736ms\n",
      "149:\tlearn: 0.3975954\ttotal: 2.17s\tremaining: 722ms\n",
      "150:\tlearn: 0.3974927\ttotal: 2.18s\tremaining: 708ms\n",
      "151:\tlearn: 0.3973604\ttotal: 2.19s\tremaining: 693ms\n",
      "152:\tlearn: 0.3973522\ttotal: 2.21s\tremaining: 678ms\n",
      "153:\tlearn: 0.3973322\ttotal: 2.22s\tremaining: 663ms\n",
      "154:\tlearn: 0.3973285\ttotal: 2.23s\tremaining: 647ms\n",
      "155:\tlearn: 0.3972598\ttotal: 2.24s\tremaining: 633ms\n",
      "156:\tlearn: 0.3972059\ttotal: 2.25s\tremaining: 618ms\n",
      "157:\tlearn: 0.3970247\ttotal: 2.27s\tremaining: 602ms\n",
      "158:\tlearn: 0.3968670\ttotal: 2.28s\tremaining: 588ms\n",
      "159:\tlearn: 0.3968532\ttotal: 2.29s\tremaining: 573ms\n",
      "160:\tlearn: 0.3966575\ttotal: 2.3s\tremaining: 558ms\n",
      "161:\tlearn: 0.3966092\ttotal: 2.32s\tremaining: 543ms\n",
      "162:\tlearn: 0.3964123\ttotal: 2.33s\tremaining: 529ms\n",
      "163:\tlearn: 0.3963902\ttotal: 2.34s\tremaining: 515ms\n",
      "164:\tlearn: 0.3962876\ttotal: 2.36s\tremaining: 500ms\n",
      "165:\tlearn: 0.3962315\ttotal: 2.37s\tremaining: 486ms\n",
      "166:\tlearn: 0.3962005\ttotal: 2.39s\tremaining: 472ms\n"
     ]
    },
    {
     "name": "stdout",
     "output_type": "stream",
     "text": [
      "167:\tlearn: 0.3961190\ttotal: 2.41s\tremaining: 459ms\n",
      "168:\tlearn: 0.3961141\ttotal: 2.43s\tremaining: 447ms\n",
      "169:\tlearn: 0.3960723\ttotal: 2.45s\tremaining: 433ms\n",
      "170:\tlearn: 0.3960466\ttotal: 2.47s\tremaining: 419ms\n",
      "171:\tlearn: 0.3960317\ttotal: 2.48s\tremaining: 404ms\n",
      "172:\tlearn: 0.3959435\ttotal: 2.49s\tremaining: 389ms\n",
      "173:\tlearn: 0.3958770\ttotal: 2.5s\tremaining: 374ms\n",
      "174:\tlearn: 0.3957956\ttotal: 2.52s\tremaining: 360ms\n",
      "175:\tlearn: 0.3956068\ttotal: 2.53s\tremaining: 345ms\n",
      "176:\tlearn: 0.3955347\ttotal: 2.54s\tremaining: 330ms\n",
      "177:\tlearn: 0.3955152\ttotal: 2.55s\tremaining: 316ms\n",
      "178:\tlearn: 0.3954763\ttotal: 2.56s\tremaining: 301ms\n",
      "179:\tlearn: 0.3954763\ttotal: 2.57s\tremaining: 286ms\n",
      "180:\tlearn: 0.3953030\ttotal: 2.58s\tremaining: 271ms\n",
      "181:\tlearn: 0.3952302\ttotal: 2.6s\tremaining: 257ms\n",
      "182:\tlearn: 0.3951397\ttotal: 2.61s\tremaining: 243ms\n",
      "183:\tlearn: 0.3950559\ttotal: 2.62s\tremaining: 228ms\n",
      "184:\tlearn: 0.3948994\ttotal: 2.64s\tremaining: 214ms\n",
      "185:\tlearn: 0.3946260\ttotal: 2.65s\tremaining: 199ms\n",
      "186:\tlearn: 0.3946086\ttotal: 2.66s\tremaining: 185ms\n",
      "187:\tlearn: 0.3945476\ttotal: 2.67s\tremaining: 171ms\n",
      "188:\tlearn: 0.3945130\ttotal: 2.69s\tremaining: 156ms\n",
      "189:\tlearn: 0.3944494\ttotal: 2.7s\tremaining: 142ms\n",
      "190:\tlearn: 0.3943449\ttotal: 2.71s\tremaining: 128ms\n",
      "191:\tlearn: 0.3943102\ttotal: 2.73s\tremaining: 114ms\n",
      "192:\tlearn: 0.3943101\ttotal: 2.74s\tremaining: 99.2ms\n",
      "193:\tlearn: 0.3942548\ttotal: 2.75s\tremaining: 85ms\n",
      "194:\tlearn: 0.3941524\ttotal: 2.76s\tremaining: 70.8ms\n",
      "195:\tlearn: 0.3940850\ttotal: 2.77s\tremaining: 56.6ms\n",
      "196:\tlearn: 0.3940828\ttotal: 2.79s\tremaining: 42.4ms\n",
      "197:\tlearn: 0.3939748\ttotal: 2.8s\tremaining: 28.3ms\n",
      "198:\tlearn: 0.3938738\ttotal: 2.82s\tremaining: 14.2ms\n",
      "199:\tlearn: 0.3937279\ttotal: 2.83s\tremaining: 0us\n"
     ]
    },
    {
     "data": {
      "text/plain": [
       "<catboost.core.CatBoostClassifier at 0x225664730a0>"
      ]
     },
     "execution_count": 121,
     "metadata": {},
     "output_type": "execute_result"
    }
   ],
   "source": [
    "boosting_model_s = catboost.CatBoostClassifier(depth=3,iterations=200,learning_rate=0.05,cat_features=cat_cols)\n",
    "boosting_model_s.fit(X_ogtrain, y_ogtrain)"
   ]
  },
  {
   "cell_type": "code",
   "execution_count": 122,
   "metadata": {},
   "outputs": [
    {
     "data": {
      "text/plain": [
       "0.8376199774309298"
      ]
     },
     "execution_count": 122,
     "metadata": {},
     "output_type": "execute_result"
    }
   ],
   "source": [
    "vd_auc=roc_auc_score(y_ogvd,boosting_model_s.predict_proba(X_ogvd)[:,1])\n",
    "vd_auc"
   ]
  },
  {
   "cell_type": "markdown",
   "metadata": {},
   "source": [
    "### Эта модель обеспечивает наибольшую точность на вальдационной выборке, будем использовать ее для конечного предсказания на датасете test\n",
    "\n"
   ]
  },
  {
   "cell_type": "markdown",
   "metadata": {
    "id": "dDMXbvNZEEZV"
   },
   "source": [
    "\n",
    "\n",
    "\n",
    "\n",
    "# Предсказания"
   ]
  },
  {
   "cell_type": "markdown",
   "metadata": {},
   "source": [
    "*Воспользуемся улучшенной моделью градиентного бустинга*"
   ]
  },
  {
   "cell_type": "code",
   "execution_count": 123,
   "metadata": {
    "id": "G_P4wFNaEEZW",
    "outputId": "1fba5dfc-88e4-49e3-ed8a-afe21ae3325a"
   },
   "outputs": [],
   "source": [
    "best_model = boosting_model_s"
   ]
  },
  {
   "cell_type": "markdown",
   "metadata": {},
   "source": [
    "Проверим тестовые данные на пропуски, если они есть, то заменяем на значие медианы."
   ]
  },
  {
   "cell_type": "code",
   "execution_count": 124,
   "metadata": {
    "id": "FfSufx0CEEZZ"
   },
   "outputs": [
    {
     "name": "stdout",
     "output_type": "stream",
     "text": [
      "Intial NaN count is 2\n",
      "NaN count is 0\n"
     ]
    }
   ],
   "source": [
    "X_test = pd.read_csv('./test.csv')\n",
    "X_test.TotalSpent = pd.to_numeric(X_test.TotalSpent, errors='coerce')\n",
    "print('Intial NaN count is',X_test.TotalSpent.isna().sum())\n",
    "X_test.TotalSpent=X_test.TotalSpent.fillna(X_test.TotalSpent.median())\n",
    "print('NaN count is',X_test.TotalSpent.isna().sum())"
   ]
  },
  {
   "cell_type": "code",
   "execution_count": 125,
   "metadata": {},
   "outputs": [],
   "source": [
    "submission = pd.read_csv('./submission.csv')\n",
    "submission['Churn'] = best_model.predict_proba(X_test)[:,1]\n",
    "submission.head()\n",
    "submission.to_csv('./my_submission.csv', index=False)"
   ]
  },
  {
   "cell_type": "markdown",
   "metadata": {},
   "source": [
    "### Скор данной модели на Kaggle = 0.85123"
   ]
  },
  {
   "cell_type": "markdown",
   "metadata": {
    "id": "mkxjbGkVEEZc"
   },
   "source": [
    "# Kaggle (5 баллов)\n",
    "\n",
    "Как выставить баллы:\n",
    "\n",
    "1) 1 >= roc auc > 0.84 это 5 баллов\n",
    "\n",
    "2) 0.84 >= roc auc > 0.7 это 3 балла\n",
    "\n",
    "3) 0.7 >= roc auc > 0.6 это 1 балл\n",
    "\n",
    "4) 0.6 >= roc auc это 0 баллов\n",
    "\n",
    "\n",
    "Для выполнения задания необходимо выполнить следующие шаги.\n",
    "* Зарегистрироваться на платформе [kaggle.com](kaggle.com). Процесс выставления оценок будет проходить при подведении итогового рейтинга. Пожалуйста, укажите во вкладке Team -> Team name свои имя и фамилию в формате Имя_Фамилия (важно, чтобы имя и фамилия совпадали с данными на Stepik).\n",
    "* Обучить модель, получить файл с ответами в формате .csv и сдать его в конкурс. Пробуйте и экспериментируйте. Обратите внимание, что вы можете выполнять до 20 попыток сдачи на kaggle в день.\n",
    "* После окончания соревнования отправить в итоговый ноутбук с решением на степик. \n",
    "* После дедлайна проверьте посылки других участников по критериям. Для этого надо зайти на степик, скачать их ноутбук и проверить скор в соревновании."
   ]
  }
 ],
 "metadata": {
  "colab": {
   "collapsed_sections": [],
   "name": "baseline.ipynb",
   "provenance": []
  },
  "kernelspec": {
   "display_name": "Python 3.10.7 64-bit",
   "language": "python",
   "name": "python3"
  },
  "language_info": {
   "codemirror_mode": {
    "name": "ipython",
    "version": 3
   },
   "file_extension": ".py",
   "mimetype": "text/x-python",
   "name": "python",
   "nbconvert_exporter": "python",
   "pygments_lexer": "ipython3",
   "version": "3.10.7"
  },
  "vscode": {
   "interpreter": {
    "hash": "e7370f93d1d0cde622a1f8e1c04877d8463912d04d973331ad4851f04de6915a"
   }
  }
 },
 "nbformat": 4,
 "nbformat_minor": 1
}
